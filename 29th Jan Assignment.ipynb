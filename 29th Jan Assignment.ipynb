{
 "cells": [
  {
   "cell_type": "code",
   "execution_count": 4,
   "id": "cfe772f2-c2d5-4aa7-bf68-78b293cd215c",
   "metadata": {},
   "outputs": [
    {
     "data": {
      "text/plain": [
       "'\\nAnswer 1\\nGuido van Rossum developed the python programming language.\\n\\n'"
      ]
     },
     "execution_count": 4,
     "metadata": {},
     "output_type": "execute_result"
    }
   ],
   "source": [
    "\"\"\"\n",
    "Answer 1\n",
    "Guido van Rossum developed the python programming language.\n",
    "\n",
    "\"\"\""
   ]
  },
  {
   "cell_type": "code",
   "execution_count": null,
   "id": "f6118131-ccfe-4c58-9934-a8e9002b026b",
   "metadata": {},
   "outputs": [],
   "source": [
    "\"\"\"\n",
    "Answer 2\n",
    "Python is a multi-paradigm programming language. \n",
    "Object-oriented programming and structured programming are fully supported, \n",
    "and many of their features support functional programming and aspect-oriented \n",
    "programming.\n",
    "\n",
    "\"\"\""
   ]
  },
  {
   "cell_type": "code",
   "execution_count": null,
   "id": "6fb39c48-b648-4161-906d-0a3e9ebc8e32",
   "metadata": {},
   "outputs": [],
   "source": [
    "\"\"\"\n",
    "Answer 3\n",
    "Python is a case-sensitive language. \n",
    "This means, Variable and variable are not the same. \n",
    "So we must always give the identifiers an understandable \n",
    "unique name that makes sense.\n",
    "\n",
    "\"\"\""
   ]
  },
  {
   "cell_type": "code",
   "execution_count": null,
   "id": "2c0658d3-5fc4-4454-93fe-d3771c5ecfbd",
   "metadata": {},
   "outputs": [],
   "source": [
    "\"\"\"\n",
    "\n",
    "Answer 4\n",
    ".py is considered as the correct extension of the python file.\n",
    "\n",
    "\"\"\""
   ]
  },
  {
   "cell_type": "code",
   "execution_count": null,
   "id": "3c6cf1f1-3a11-4816-8ee2-f8c505955001",
   "metadata": {},
   "outputs": [],
   "source": [
    "\"\"\"\n",
    "Answer 5\n",
    "Python is an interpreted language, which means the source code of a \n",
    "Python program is converted into bytecode that is then executed by the \n",
    "Python virtual machine. \n",
    "Python is different from major compiled languages, such as C and C + +\n",
    "\n",
    "\"\"\""
   ]
  },
  {
   "cell_type": "code",
   "execution_count": null,
   "id": "36d9dbdd-8f87-4824-a83f-3428f8765f5f",
   "metadata": {},
   "outputs": [],
   "source": [
    "\"\"\"\n",
    "Answer 6\n",
    "Each command typed interactively is a block.\n",
    "a module, a function body, and a class definition are some blocks\n",
    "used to define in python.\n",
    "\n",
    "\"\"\""
   ]
  },
  {
   "cell_type": "code",
   "execution_count": null,
   "id": "1c88d5a6-0473-4627-88fe-4de7bb342855",
   "metadata": {},
   "outputs": [],
   "source": [
    "\"\"\"\n",
    "Answer 7\n",
    "\n",
    "# character is used to give single line comments in python.\n",
    "\n",
    "\"\"\""
   ]
  },
  {
   "cell_type": "code",
   "execution_count": null,
   "id": "e220e2d6-d701-4bec-83e4-1ee524fc60e3",
   "metadata": {},
   "outputs": [],
   "source": [
    "\"\"\"\n",
    "Answer 8\n",
    "\n",
    "Using sys. version function.\n",
    "Using python_version() function.\n",
    "Using Python -V command in cmd prompt.\n",
    "we can find the version using above\n",
    "\n",
    "\"\"\""
   ]
  },
  {
   "cell_type": "code",
   "execution_count": null,
   "id": "54f8902a-e72e-4489-98cc-6870eb179748",
   "metadata": {},
   "outputs": [],
   "source": [
    "\"\"\"\n",
    "Answer 9\n",
    "Python supports the creation of anonymous functions (i.e. functions that are not \n",
    "bound to a name) at runtime, using a construct called lambda.\n",
    "\n",
    "\"\"\""
   ]
  },
  {
   "cell_type": "code",
   "execution_count": null,
   "id": "7cd5570a-d32d-4fac-bbc7-b9a2ab30247c",
   "metadata": {},
   "outputs": [],
   "source": [
    "\"\"\"\n",
    "Answer 10\n",
    " PIP is a recursive acronym for “Preferred Installer Program” \n",
    " or PIP Installs Packages.\n",
    "\n",
    "\"\"\""
   ]
  },
  {
   "cell_type": "code",
   "execution_count": null,
   "id": "b076033e-54aa-4898-84a2-493c44180617",
   "metadata": {},
   "outputs": [],
   "source": [
    "\"\"\"\n",
    "Answer 11\n",
    "str(), tuple(), list[], set{}, dict{}\n",
    "are some of the built-in functions in python\n",
    "\n",
    "\"\"\""
   ]
  },
  {
   "cell_type": "code",
   "execution_count": null,
   "id": "5a43f773-0d7c-414c-8dc1-1754e32322b8",
   "metadata": {},
   "outputs": [],
   "source": [
    "\"\"\"\n",
    "Answer 12\n",
    "An identifier can have a maximum length of 79 characters in Python.\n",
    "\n",
    "\"\"\""
   ]
  },
  {
   "cell_type": "code",
   "execution_count": null,
   "id": "4be6137c-9778-4339-bf74-9cb451c133a2",
   "metadata": {},
   "outputs": [],
   "source": [
    "\"\"\"\n",
    "Answer 13\n",
    "5 reasons to use python programming language:\n",
    "*Large developer community. Python is one of the most popular programming languages in the world.\n",
    "*Extensive libraries. Python offers a wide range of libraries that can be used across various applications.\n",
    "*Write less, do more. Python has very concise syntax.\n",
    "*Portability. Portability refers to an application’s ability to run across various operating systems (OS).\n",
    "*Wide range of use cases. like, Data Science, Cyber Security, Game Development, etc\n",
    "\n",
    "\"\"\""
   ]
  },
  {
   "cell_type": "code",
   "execution_count": null,
   "id": "06217e91-219c-42e0-9d37-832b3dd19f54",
   "metadata": {},
   "outputs": [],
   "source": [
    "\"\"\"\n",
    "Answer 14\n",
    "Python uses a portion of the memory for internal use and non-object memory.\n",
    "Memory management in Python involves a private heap containing all Python \n",
    "objects and data structures. The management of this private heap is \n",
    "ensured internally by the Python memory manager.\n",
    "\n",
    "\"\"\""
   ]
  },
  {
   "cell_type": "code",
   "execution_count": null,
   "id": "de66a6dc-051c-4cbe-a8fc-986cb2ce75da",
   "metadata": {},
   "outputs": [],
   "source": [
    "\"\"\"\n",
    "Answer 15\n",
    "\n",
    "Python can be downloaded from its offcial website. You can choose any version from the list of provided versions.\n",
    "\n",
    "The complete path of python.exe can be added by:\n",
    "\n",
    "*Right-clicking This PC and going to Properties.\n",
    "*Clicking on the Advanced system settings in the menu on the left.\n",
    "*Clicking on the Environment Variables button o​n the bottom right.\n",
    "*In the System variables section, selecting the Path variable and clicking on Edit. The next screen will show all the directories that are currently a part of the PATH variable.\n",
    "*Clicking on New and entering Python’s install directory.\n",
    "\n",
    "Python can now be used directly from the command prompt without having to write its location. \n",
    "\n",
    "\"\"\""
   ]
  },
  {
   "cell_type": "code",
   "execution_count": null,
   "id": "77132a60-73aa-4283-87c5-10f10cd06b27",
   "metadata": {},
   "outputs": [],
   "source": [
    "\"\"\"\n",
    "Answer 16\n",
    "The indentation in Python is very important. \n",
    "It uses indentation to indicate a block of code.\n",
    "\n",
    "\"\"\""
   ]
  }
 ],
 "metadata": {
  "kernelspec": {
   "display_name": "Python 3 (ipykernel)",
   "language": "python",
   "name": "python3"
  },
  "language_info": {
   "codemirror_mode": {
    "name": "ipython",
    "version": 3
   },
   "file_extension": ".py",
   "mimetype": "text/x-python",
   "name": "python",
   "nbconvert_exporter": "python",
   "pygments_lexer": "ipython3",
   "version": "3.10.8"
  }
 },
 "nbformat": 4,
 "nbformat_minor": 5
}

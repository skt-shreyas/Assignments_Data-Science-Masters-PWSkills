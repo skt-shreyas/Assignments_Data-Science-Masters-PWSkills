{
 "cells": [
  {
   "cell_type": "code",
   "execution_count": 1,
   "id": "cfe772f2-c2d5-4aa7-bf68-78b293cd215c",
   "metadata": {},
   "outputs": [],
   "source": [
    "\"\"\"Q1. Explain Class and Object with respect to Object-Oriented Programming. \n",
    "Give a suitable example.\"\"\"\n",
    "\n",
    "#Answer 1\n",
    "\n",
    "\"\"\"\n",
    "A class is considered as a blueprint of objects. We can think of the class as \n",
    "a sketch (prototype) of a house. It contains all the details about the floors, \n",
    "doors, windows, etc. Based on these descriptions we build the house. House is \n",
    "the object. Since many houses can be made from the same description, we can \n",
    "create many objects from a class.\n",
    "\n",
    "An object is called an instance of a class. For example, suppose Bike is a class \n",
    "then we can create objects like bike1, bike2, etc from the class.\n",
    "\"\"\"\n",
    "\n",
    "# create class\n",
    "class Bike:\n",
    "    name = \"\"\n",
    "    gear = 0\n",
    "\n",
    "# create objects of class\n",
    "bike1 = Bike()"
   ]
  },
  {
   "cell_type": "code",
   "execution_count": 2,
   "id": "6fb39c48-b648-4161-906d-0a3e9ebc8e32",
   "metadata": {},
   "outputs": [
    {
     "data": {
      "text/plain": [
       "'\\nThe four pillars of OOPs are Inheritance, Polymorphism, Encapsulation and \\nAbstraction.\\n\\n>>>> Abstraction - Abstraction means displaying only basic information and \\nhiding the details. Data abstraction refers to providing only necessary \\ninformation about the data to the outside world, hiding the background info \\nor implementation.\\n\\n>>>> Encapsulation - Encapsulation is defined as wrapping up of data and \\ninformation under a single unit. In object-oriented programming, Encapsulation\\nis defined as binding together the data and the functions that manipulate them.\\nEncapsulation also leads to data abstraction or hiding.\\n\\n>>>> Inheritance= Inheritance is the process in which two classes have a \\nrelationship with each other, and objects of one class acquire properties and \\nfeatures of the other class. The class which inherits the features is known as\\nthe child class, and the class whose features it inherited is called the parent\\nclass.\\n>>>> Polymorphism - The word polymorphism means having many forms. It is the \\nability to take more than one form. It is a feature that provides a function \\nor an operator with more than one definition. It can be implemented using \\nfunction overloading, operator overload, function overriding, virtual function.\\n\\n'"
      ]
     },
     "execution_count": 2,
     "metadata": {},
     "output_type": "execute_result"
    }
   ],
   "source": [
    "\"\"\"Q2.Name the four pillars of OOPs. \"\"\"\n",
    "\n",
    "#Answer 2\n",
    "\n",
    "\"\"\"\n",
    "The four pillars of OOPs are Inheritance, Polymorphism, Encapsulation and \n",
    "Abstraction.\n",
    "\n",
    ">>>> Abstraction - Abstraction means displaying only basic information and \n",
    "hiding the details. Data abstraction refers to providing only necessary \n",
    "information about the data to the outside world, hiding the background info \n",
    "or implementation.\n",
    "\n",
    ">>>> Encapsulation - Encapsulation is defined as wrapping up of data and \n",
    "information under a single unit. In object-oriented programming, Encapsulation\n",
    "is defined as binding together the data and the functions that manipulate them.\n",
    "Encapsulation also leads to data abstraction or hiding.\n",
    "\n",
    ">>>> Inheritance= Inheritance is the process in which two classes have a \n",
    "relationship with each other, and objects of one class acquire properties and \n",
    "features of the other class. The class which inherits the features is known as\n",
    "the child class, and the class whose features it inherited is called the parent\n",
    "class.\n",
    ">>>> Polymorphism - The word polymorphism means having many forms. It is the \n",
    "ability to take more than one form. It is a feature that provides a function \n",
    "or an operator with more than one definition. It can be implemented using \n",
    "function overloading, operator overload, function overriding, virtual function.\n",
    "\n",
    "\"\"\""
   ]
  },
  {
   "cell_type": "code",
   "execution_count": 3,
   "id": "2c0658d3-5fc4-4454-93fe-d3771c5ecfbd",
   "metadata": {},
   "outputs": [
    {
     "name": "stdout",
     "output_type": "stream",
     "text": [
      "Hello, my name is Nikhil\n"
     ]
    }
   ],
   "source": [
    "\"\"\"Q3. Explain why the __init__() function is used. Give a suitable example.\"\"\"\n",
    "\n",
    "#Answer 3\n",
    "\"\"\"\n",
    "__init__ are constructors that are used to initializing the object’s state. \n",
    "The task of constructors is to initialize(assign values) to the data members \n",
    "of the class when an object of the class is created.\n",
    "\n",
    "\"\"\"\n",
    "\n",
    "class Person:\n",
    " \n",
    "    def __init__(self, name):\n",
    "        self.name = name\n",
    "    def say_hi(self):\n",
    "        print('Hello, my name is', self.name)\n",
    " \n",
    " \n",
    "p = Person('Nikhil')\n",
    "p.say_hi()"
   ]
  },
  {
   "cell_type": "code",
   "execution_count": 4,
   "id": "3c6cf1f1-3a11-4816-8ee2-f8c505955001",
   "metadata": {},
   "outputs": [
    {
     "data": {
      "text/plain": [
       "'\\nThe self variable is used to represent the instance of the class which is often\\nused in object-oriented programming. It works as a reference to the object. \\nPython uses the self parameter to refer to instance attributes and methods of \\nthe class.\\n'"
      ]
     },
     "execution_count": 4,
     "metadata": {},
     "output_type": "execute_result"
    }
   ],
   "source": [
    "\"\"\"Q4. Why self is used in OOPs?\"\"\"\n",
    "\n",
    "#Answer 4\n",
    "\n",
    "\"\"\"\n",
    "The self variable is used to represent the instance of the class which is often\n",
    "used in object-oriented programming. It works as a reference to the object. \n",
    "Python uses the self parameter to refer to instance attributes and methods of \n",
    "the class.\n",
    "\"\"\""
   ]
  },
  {
   "cell_type": "code",
   "execution_count": 7,
   "id": "0d335f40-4172-49cd-b779-4429f15fe342",
   "metadata": {},
   "outputs": [
    {
     "data": {
      "text/plain": [
       "['php', 'aba', 'radar', 'level']"
      ]
     },
     "execution_count": 7,
     "metadata": {},
     "output_type": "execute_result"
    }
   ],
   "source": [
    "\"\"\"Q5. What is inheritance? Give an example for each type of inheritance.\"\"\"\n",
    "\n",
    "#Answer 5\n",
    "\n",
    "\"\"\"\n",
    "Inheritance is a mechanism in which one class acquires the property of another\n",
    "class. For example, a child inherits the traits of his/her parents. With \n",
    "inheritance, we can reuse the fields and methods of the existing class. \n",
    "Hence, inheritance facilitates Reusability and is an important concept of OOPs.\n",
    "\"\"\"\n"
   ]
  },
  {
   "cell_type": "code",
   "execution_count": null,
   "id": "13258ec2-5793-4587-8c87-ec527136efaf",
   "metadata": {},
   "outputs": [],
   "source": []
  }
 ],
 "metadata": {
  "kernelspec": {
   "display_name": "Python 3 (ipykernel)",
   "language": "python",
   "name": "python3"
  },
  "language_info": {
   "codemirror_mode": {
    "name": "ipython",
    "version": 3
   },
   "file_extension": ".py",
   "mimetype": "text/x-python",
   "name": "python",
   "nbconvert_exporter": "python",
   "pygments_lexer": "ipython3",
   "version": "3.10.8"
  }
 },
 "nbformat": 4,
 "nbformat_minor": 5
}

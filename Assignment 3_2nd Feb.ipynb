{
 "cells": [
  {
   "cell_type": "code",
   "execution_count": 1,
   "id": "cfe772f2-c2d5-4aa7-bf68-78b293cd215c",
   "metadata": {},
   "outputs": [
    {
     "data": {
      "text/plain": [
       "'\\nA \"For\" Loop is used to repeat a specific block of code a known number \\nof times. For example, if we want to check the grade of every student \\nin the class, we loop from 1 to that number.\\n       The syntax of for loop is given as:\\n       For condition:\\n       # body of the for loop\\nFor example we need to access items from a list.\\n\\n\\nA \"while\" loop will run a piece of code while a condition is True. \\nIt will keep executing the desired set of code statements until that \\ncondition is no longer True. A while loop will always first check the\\ncondition before running.\\n       The syntax of while loop is given as:\\n       while condition:\\n       # body of while loop\\nFor example if we want to ask a user for a number between 1 and 10, \\nwe don\\'t know how many times the user may enter a larger number, \\nso we keep asking \"while the number is not between 1 and 10\".\\n\\n'"
      ]
     },
     "execution_count": 1,
     "metadata": {},
     "output_type": "execute_result"
    }
   ],
   "source": [
    "#Answer 1\n",
    "\n",
    "\"\"\"\n",
    "A \"For\" Loop is used to repeat a specific block of code a known number \n",
    "of times. For example, if we want to check the grade of every student \n",
    "in the class, we loop from 1 to that number.\n",
    "       The syntax of for loop is given as:\n",
    "       For condition:\n",
    "       # body of the for loop\n",
    "For example we need to access items from a list.\n",
    "\n",
    "\n",
    "A \"while\" loop will run a piece of code while a condition is True. \n",
    "It will keep executing the desired set of code statements until that \n",
    "condition is no longer True. A while loop will always first check the\n",
    "condition before running.\n",
    "       The syntax of while loop is given as:\n",
    "       while condition:\n",
    "       # body of while loop\n",
    "For example if we want to ask a user for a number between 1 and 10, \n",
    "we don't know how many times the user may enter a larger number, \n",
    "so we keep asking \"while the number is not between 1 and 10\".\n",
    "\n",
    "\"\"\""
   ]
  },
  {
   "cell_type": "code",
   "execution_count": 18,
   "id": "f6118131-ccfe-4c58-9934-a8e9002b026b",
   "metadata": {},
   "outputs": [
    {
     "name": "stdout",
     "output_type": "stream",
     "text": [
      "Sum of first 10 natural number using WHILE LOOP \n",
      " 55\n",
      "Product of first 10 natural number using WHILE LOOP \n",
      " 3628800\n",
      "Sum of first 10 natural number using FOR LOOP \n",
      " 55\n",
      "Product of first 10 natural number using FOR LOOP \n",
      " 3628800\n"
     ]
    }
   ],
   "source": [
    "#Answer 2\n",
    "\n",
    "\"\"\" Sum of first 10 natural number using WHILE LOOP\"\"\"\n",
    "n = 10\n",
    "i = 1\n",
    "sum=0\n",
    "while i<=n:\n",
    "    sum = sum + i\n",
    "    i = i + 1\n",
    "print(\"Sum of first 10 natural number using WHILE LOOP\" ,'\\n',sum)\n",
    "\n",
    "\"\"\"Product of firt 10 natural number using WHILE LOOP\"\"\"\n",
    "\n",
    "n = 10\n",
    "i = 1\n",
    "product = 1\n",
    "while i<=n:\n",
    "    product = product * i\n",
    "    i = i + 1\n",
    "print(\"Product of first 10 natural number using WHILE LOOP\" ,'\\n',product)\n",
    "\n",
    "\"\"\" Sum of first 10 natural number using FOR LOOP\"\"\"\n",
    "\n",
    "sum = 0 \n",
    "for i in range(1, 11): \n",
    "    sum += i \n",
    "print(\"Sum of first 10 natural number using FOR LOOP\" ,'\\n',sum) \n",
    "\n",
    "\"\"\" Product of first 10 natural number using FOR LOOP\"\"\"\n",
    "\n",
    "product = 1\n",
    "for i in range(1, 11): \n",
    "    product = product * i \n",
    "print(\"Product of first 10 natural number using FOR LOOP\",'\\n',product) \n"
   ]
  },
  {
   "cell_type": "code",
   "execution_count": 29,
   "id": "6fb39c48-b648-4161-906d-0a3e9ebc8e32",
   "metadata": {},
   "outputs": [
    {
     "name": "stdin",
     "output_type": "stream",
     "text": [
      "Enter the unit of electricity used 310\n"
     ]
    },
    {
     "name": "stdout",
     "output_type": "stream",
     "text": [
      "2250.0\n"
     ]
    }
   ],
   "source": [
    "#Answer 3\n",
    "\n",
    "def Monthly_Bill(units):\n",
    "    if (units <= 100):\n",
    "        return units * 4.5;\n",
    "    elif (units <= 200):\n",
    "        return ((100 * 4.5) + (units - 100) * 6);\n",
    "    elif (units <= 300):\n",
    "        return ((100 * 4.5) + (100 * 6) + (units - 200) * 10);\n",
    "    elif (units > 300):\n",
    "        return ((100 * 4.5) + (100 * 6) +(100 * 10) + (units - 300) * 20);\n",
    "     \n",
    "    return 0;\n",
    " \n",
    "\n",
    "units = int(input(\"Enter the unit of electricity used\"));\n",
    "print(Monthly_Bill(units));"
   ]
  },
  {
   "cell_type": "code",
   "execution_count": 34,
   "id": "2c0658d3-5fc4-4454-93fe-d3771c5ecfbd",
   "metadata": {},
   "outputs": [
    {
     "name": "stdout",
     "output_type": "stream",
     "text": [
      "[2, 4, 5, 6, 8, 10, 12, 14, 15, 16, 18, 20, 22, 24, 25, 26, 28, 30, 32, 34, 35, 36, 38, 40, 42, 44, 45, 46, 48, 50, 52, 54, 55, 56, 58, 60, 62, 64, 65, 66, 68, 70, 72, 74, 75, 76, 78, 80, 82, 84, 85, 86, 88, 90, 92, 94, 95, 96, 98, 100]\n"
     ]
    }
   ],
   "source": [
    "#Answer 4\n",
    "\n",
    "l1=list(range(1,101))\n",
    "l2 =[]\n",
    "\n",
    "for i in l1:\n",
    "    c= i**3\n",
    "    if c %4 ==0 or c%5==0:\n",
    "        l2.append(i)\n",
    "print(l2)"
   ]
  },
  {
   "cell_type": "code",
   "execution_count": 58,
   "id": "3c6cf1f1-3a11-4816-8ee2-f8c505955001",
   "metadata": {},
   "outputs": [
    {
     "name": "stdout",
     "output_type": "stream",
     "text": [
      "12\n"
     ]
    }
   ],
   "source": [
    "#Answer 5\n",
    "\n",
    "string = \"I want to become a data scientist\"\n",
    "vowels= 'aeiouAEIOU'\n",
    "count=0\n",
    "for i in string:\n",
    "    if i in vowels:\n",
    "        count+=1\n",
    "print(count)\n",
    "    "
   ]
  },
  {
   "cell_type": "code",
   "execution_count": 59,
   "id": "3b093765-3af2-4c4c-b895-1ad20b1a1eb1",
   "metadata": {},
   "outputs": [
    {
     "data": {
      "text/plain": [
       "-4612"
      ]
     },
     "execution_count": 59,
     "metadata": {},
     "output_type": "execute_result"
    }
   ],
   "source": [
    "int(47-79*59+89/69)"
   ]
  },
  {
   "cell_type": "code",
   "execution_count": 61,
   "id": "ad7a6d5f-5f78-4865-b24b-dac01598f09d",
   "metadata": {},
   "outputs": [
    {
     "data": {
      "text/plain": [
       "1.289855072463768"
      ]
     },
     "execution_count": 61,
     "metadata": {},
     "output_type": "execute_result"
    }
   ],
   "source": [
    "89/69"
   ]
  },
  {
   "cell_type": "code",
   "execution_count": null,
   "id": "44713c09-9901-4a26-a53b-c01c35a18b87",
   "metadata": {},
   "outputs": [],
   "source": [
    "79"
   ]
  }
 ],
 "metadata": {
  "kernelspec": {
   "display_name": "Python 3 (ipykernel)",
   "language": "python",
   "name": "python3"
  },
  "language_info": {
   "codemirror_mode": {
    "name": "ipython",
    "version": 3
   },
   "file_extension": ".py",
   "mimetype": "text/x-python",
   "name": "python",
   "nbconvert_exporter": "python",
   "pygments_lexer": "ipython3",
   "version": "3.10.8"
  }
 },
 "nbformat": 4,
 "nbformat_minor": 5
}

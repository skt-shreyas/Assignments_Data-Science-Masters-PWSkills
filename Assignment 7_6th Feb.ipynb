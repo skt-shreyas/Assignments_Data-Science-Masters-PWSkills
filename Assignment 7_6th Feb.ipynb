{
 "cells": [
  {
   "cell_type": "code",
   "execution_count": 1,
   "id": "cfe772f2-c2d5-4aa7-bf68-78b293cd215c",
   "metadata": {},
   "outputs": [],
   "source": [
    "\"\"\" Q1. Create a function which will take a list as an argument and return the product of all the numbers\n",
    "after creating a flat list.\n",
    "Use the below-given list as an argument for your function.\n",
    "list1 = [1,2,3,4, [44,55,66, True], False, (34,56,78,89,34), {1,2,3,3,2,1}, {1:34, \"key2\": [55, 67, 78, 89], 4: (45,\n",
    "22, 61, 34)}, [56, 'data science'], 'Machine Learning']\n",
    "Note: you must extract numeric keys and values of the dictionary also.\n",
    "\n",
    "\"\"\"\n",
    "\n",
    "#Answer 1\n",
    "\n",
    "from typing import List\n",
    "\n",
    "def get_product(lst: List):\n",
    "    flat_list = []\n",
    "    def flatten(lst):\n",
    "        for item in lst:\n",
    "            if type(item) in (list, tuple, set, dict):\n",
    "                flatten(item)\n",
    "            elif type(item) == int:\n",
    "                flat_list.append(item)\n",
    "    flatten(lst)\n",
    "    product = 1\n",
    "    for num in flat_list:\n",
    "        product *= num\n",
    "    return product\n",
    "\n",
    "\n",
    "list1 = [1,2,3,4, [44,55,66, True], False, (34,56,78,89,34), {1,2,3,3,2,1}, {1:34, \"key2\": [55, 67, 78, 89], 4: (45,\n",
    "22, 61, 34)}, [56, 'data science'], 'Machine Learning']\n",
    "\n"
   ]
  },
  {
   "cell_type": "code",
   "execution_count": 2,
   "id": "6fb39c48-b648-4161-906d-0a3e9ebc8e32",
   "metadata": {},
   "outputs": [
    {
     "name": "stdout",
     "output_type": "stream",
     "text": [
      "Encrypted message: r$dzmg$gl$yvxlnv$z$wzgz$hxrvmgrhg.\n"
     ]
    }
   ],
   "source": [
    "\"\"\"Q2.Write a python program for encrypting a message sent to you by your friend. The logic of encryption\n",
    "should be such that, for a the output should be z. For b, the output should be y. For c, the output should\n",
    "be x respectively. Also, the whitespace should be replaced with a dollar sign. Keep the punctuation\n",
    "marks unchanged.\n",
    "Input Sentence: I want to become a Data Scientist.\n",
    "Encrypt the above input sentence using the program you just created.\n",
    "Note: Convert the given input sentence into lowercase before encrypting. The final output should be\n",
    "lowercase.\n",
    "\n",
    "\"\"\"\n",
    "\n",
    "#Answer 2\n",
    "\n",
    "def encrypted(message):\n",
    "    message= message.lower()\n",
    "    encryption = {}\n",
    "    for i in range(26):\n",
    "        encryption[chr(i + ord('a'))]= chr((25-i) + ord('a'))\n",
    "    encryption[' ']='$'\n",
    "    encrypted_message= ''\n",
    "    for char in message:\n",
    "        if char in encryption:\n",
    "          encrypted_message += encryption[char]\n",
    "        else:\n",
    "          encrypted_message += char\n",
    "    return encrypted_message\n",
    "\n",
    "message = \"I want to become a Data Scientist.\"\n",
    "encrypted_message = encrypted(message)\n",
    "print(\"Encrypted message:\", encrypted_message)\n",
    "    \n"
   ]
  },
  {
   "cell_type": "code",
   "execution_count": null,
   "id": "c45f3bb3-1764-4548-bf18-2ad225a9fd3b",
   "metadata": {},
   "outputs": [],
   "source": []
  },
  {
   "cell_type": "code",
   "execution_count": null,
   "id": "e4bae668-2ae6-43f5-9d55-aa9cbe26d0e7",
   "metadata": {},
   "outputs": [],
   "source": []
  }
 ],
 "metadata": {
  "kernelspec": {
   "display_name": "Python 3 (ipykernel)",
   "language": "python",
   "name": "python3"
  },
  "language_info": {
   "codemirror_mode": {
    "name": "ipython",
    "version": 3
   },
   "file_extension": ".py",
   "mimetype": "text/x-python",
   "name": "python",
   "nbconvert_exporter": "python",
   "pygments_lexer": "ipython3",
   "version": "3.10.8"
  }
 },
 "nbformat": 4,
 "nbformat_minor": 5
}

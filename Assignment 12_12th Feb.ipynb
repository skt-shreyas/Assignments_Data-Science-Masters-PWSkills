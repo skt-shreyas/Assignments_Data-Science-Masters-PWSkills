{
 "cells": [
  {
   "cell_type": "code",
   "execution_count": 1,
   "id": "682161a1-b613-4048-aaaa-3fd0125ece1b",
   "metadata": {},
   "outputs": [
    {
     "data": {
      "text/plain": [
       "'\\nAn exception in Python is an error that occurs during the execution of a \\nprogram. It may be due to various reasons such as invalid input, division by \\nzero, out of memory, or trying to access an undefined variable. When an \\nexception occurs, the normal flow of the program is disrupted, and the program \\nterminates.\\n\\nThe key difference between exceptions and syntax errors is that exceptions \\noccur during the execution of a program, while syntax errors occur before the \\nprogram is executed. Additionally, exceptions can be handled and resolved \\nprogrammatically, while syntax errors must be fixed manually by the programmer.\\n\\n'"
      ]
     },
     "execution_count": 1,
     "metadata": {},
     "output_type": "execute_result"
    }
   ],
   "source": [
    "\"\"\"\n",
    "Q1. What is an Exception in pthon? Write the differen between Exveptions and \n",
    "syntax errors\n",
    "\"\"\"\n",
    "\n",
    "#Answer\n",
    "\n",
    "\"\"\"\n",
    "An exception in Python is an error that occurs during the execution of a \n",
    "program. It may be due to various reasons such as invalid input, division by \n",
    "zero, out of memory, or trying to access an undefined variable. When an \n",
    "exception occurs, the normal flow of the program is disrupted, and the program \n",
    "terminates.\n",
    "\n",
    "The key difference between exceptions and syntax errors is that exceptions \n",
    "occur during the execution of a program, while syntax errors occur before the \n",
    "program is executed. Additionally, exceptions can be handled and resolved \n",
    "programmatically, while syntax errors must be fixed manually by the programmer.\n",
    "\n",
    "\"\"\""
   ]
  },
  {
   "cell_type": "code",
   "execution_count": 2,
   "id": "c29c510b-1c8c-4650-9049-cca9511bef55",
   "metadata": {},
   "outputs": [
    {
     "name": "stdout",
     "output_type": "stream",
     "text": [
      "2.0\n"
     ]
    },
    {
     "ename": "ZeroDivisionError",
     "evalue": "division by zero",
     "output_type": "error",
     "traceback": [
      "\u001b[0;31m---------------------------------------------------------------------------\u001b[0m",
      "\u001b[0;31mZeroDivisionError\u001b[0m                         Traceback (most recent call last)",
      "Cell \u001b[0;32mIn[2], line 20\u001b[0m\n\u001b[1;32m     17\u001b[0m     \u001b[38;5;28;01mreturn\u001b[39;00m result\n\u001b[1;32m     19\u001b[0m \u001b[38;5;28mprint\u001b[39m(divide(\u001b[38;5;241m10\u001b[39m, \u001b[38;5;241m5\u001b[39m))\n\u001b[0;32m---> 20\u001b[0m \u001b[38;5;28mprint\u001b[39m(\u001b[43mdivide\u001b[49m\u001b[43m(\u001b[49m\u001b[38;5;241;43m10\u001b[39;49m\u001b[43m,\u001b[49m\u001b[43m \u001b[49m\u001b[38;5;241;43m0\u001b[39;49m\u001b[43m)\u001b[49m)\n",
      "Cell \u001b[0;32mIn[2], line 16\u001b[0m, in \u001b[0;36mdivide\u001b[0;34m(x, y)\u001b[0m\n\u001b[1;32m     15\u001b[0m \u001b[38;5;28;01mdef\u001b[39;00m \u001b[38;5;21mdivide\u001b[39m(x, y):\n\u001b[0;32m---> 16\u001b[0m     result \u001b[38;5;241m=\u001b[39m \u001b[43mx\u001b[49m\u001b[43m \u001b[49m\u001b[38;5;241;43m/\u001b[39;49m\u001b[43m \u001b[49m\u001b[43my\u001b[49m\n\u001b[1;32m     17\u001b[0m     \u001b[38;5;28;01mreturn\u001b[39;00m result\n",
      "\u001b[0;31mZeroDivisionError\u001b[0m: division by zero"
     ]
    }
   ],
   "source": [
    "\"\"\"\n",
    "Q2. What happens when an exception is not handled? Explain with an example.\n",
    "\"\"\"\n",
    "\n",
    "#Answer 2\n",
    "\n",
    "\"\"\"\n",
    "When an exception is not handled, the program terminates abruptly and generates\n",
    "a traceback, which is a detailed report of the error that occurred. The \n",
    "traceback provides information about the line of code where the error occurred,\n",
    "the type of error, and a description of the error.\n",
    "\n",
    "\"\"\"\n",
    "\n",
    "def divide(x, y):\n",
    "    result = x / y\n",
    "    return result\n",
    "\n",
    "print(divide(10, 5))\n",
    "print(divide(10, 0))"
   ]
  },
  {
   "cell_type": "code",
   "execution_count": 3,
   "id": "64eeff10-3d91-4a65-a7a7-ae739cf97c46",
   "metadata": {},
   "outputs": [
    {
     "name": "stdout",
     "output_type": "stream",
     "text": [
      "2.0\n",
      "Cannot divide by zero\n",
      "None\n"
     ]
    }
   ],
   "source": [
    "\"\"\"\n",
    "Q3. Which python statements are used to catch and handle exceptions? Explain\n",
    "with an example?\n",
    "\"\"\"\n",
    "\n",
    "#Answer 3\n",
    "\n",
    "\"\"\"\n",
    "In Python, exceptions can be caught and handled using the try and except \n",
    "statements. The try block contains the code that might raise an exception, \n",
    "and the except block contains the code that will handle the exception if it \n",
    "occurs.\n",
    "\n",
    "Here is an example of how to use the try and except statements to handle a \n",
    "ZeroDivisionError exception:\n",
    "\"\"\"\n",
    "\n",
    "def divide(x, y):\n",
    "    try:\n",
    "        result = x / y\n",
    "    except ZeroDivisionError:\n",
    "        print(\"Cannot divide by zero\")\n",
    "    else:\n",
    "        return result\n",
    "\n",
    "print(divide(10, 5)) # Output: 2.0\n",
    "print(divide(10, 0)) # Output: Cannot divide by zero"
   ]
  },
  {
   "cell_type": "code",
   "execution_count": 4,
   "id": "9eab568a-5af6-4d04-896e-eba4a47ef8e4",
   "metadata": {},
   "outputs": [
    {
     "name": "stdout",
     "output_type": "stream",
     "text": [
      "2.0\n",
      "5.0\n"
     ]
    }
   ],
   "source": [
    "\"\"\"\n",
    "Q4. Explain with an example:#\n",
    "\n",
    "1) try and else\n",
    "2) finally\n",
    "3) raise\n",
    "\n",
    "\"\"\"\n",
    "\n",
    "#Answer 4\n",
    "\n",
    "\n",
    "#try and else statements can be used in combination to handle exceptions in \n",
    "#Python. The else block is executed if no exceptions are raised in the try \n",
    "#block.\n",
    "\n",
    "#example\n",
    "\n",
    "def divide(x, y):\n",
    "    try:\n",
    "        result = x / y\n",
    "    except ZeroDivisionError:\n",
    "        print(\"Cannot divide by zero\")\n",
    "    else:\n",
    "        return result\n",
    "\n",
    "print(divide(10, 5)) # Output: 2.0\n",
    "print(divide(10, 2)) # Output: 5.0\n"
   ]
  },
  {
   "cell_type": "code",
   "execution_count": 5,
   "id": "198fad24-63c6-4f82-882b-5fcbc5a03561",
   "metadata": {},
   "outputs": [
    {
     "name": "stdout",
     "output_type": "stream",
     "text": [
      "Executing finally block\n",
      "2.0\n",
      "Cannot divide by zero\n",
      "Executing finally block\n",
      "None\n"
     ]
    }
   ],
   "source": [
    "#Answer 4\n",
    "\n",
    "#The finally statement in Python is used to specify a block of code that \n",
    "#should be executed regardless of whether an exception occurs or not. The \n",
    "#code in the finally block is guaranteed to be executed, even if an exception \n",
    "#is raised and not caught in the try block.\n",
    "\n",
    "#example\n",
    "def divide(x, y):\n",
    "    try:\n",
    "        result = x / y\n",
    "    except ZeroDivisionError:\n",
    "        print(\"Cannot divide by zero\")\n",
    "        result = None\n",
    "    finally:\n",
    "        print(\"Executing finally block\")\n",
    "    return result\n",
    "\n",
    "print(divide(10, 5)) # Output: Executing finally block \\n 2.0\n",
    "print(divide(10, 0)) # Output: Cannot divide by zero \\n Executing finally block "
   ]
  },
  {
   "cell_type": "code",
   "execution_count": 6,
   "id": "7e138b15-2136-4a69-85bb-98358f4a22aa",
   "metadata": {},
   "outputs": [
    {
     "name": "stdout",
     "output_type": "stream",
     "text": [
      "2.0\n",
      "Cannot divide by zero\n"
     ]
    }
   ],
   "source": [
    "#Answer 4\n",
    "\n",
    "#The raise statement in Python is used to raise an exception explicitly. \n",
    "#It is used to indicate that an error has occurred and to stop the normal \n",
    "#execution of the program.\n",
    "\n",
    "#example\n",
    "\n",
    "def divide(x, y):\n",
    "    if y == 0:\n",
    "        raise ZeroDivisionError(\"Cannot divide by zero\")\n",
    "    return x / y\n",
    "\n",
    "try:\n",
    "    print(divide(10, 5)) # Output: 2.0\n",
    "    print(divide(10, 0))\n",
    "except ZeroDivisionError as e:\n",
    "    print(e) # Output: Cannot divide by zero"
   ]
  },
  {
   "cell_type": "code",
   "execution_count": 7,
   "id": "5efa2b9d-47e6-4d18-bde5-8d8dccff94f5",
   "metadata": {},
   "outputs": [
    {
     "name": "stdout",
     "output_type": "stream",
     "text": [
      "2.0\n",
      "Input values must be positive\n",
      "None\n",
      "Cannot divide by zero\n",
      "None\n"
     ]
    }
   ],
   "source": [
    "\"\"\"\n",
    "Q5. What are Custom Exceptions in python? What do we need Custom Exceptions ?\n",
    "Explain in with an example\n",
    "\"\"\"\n",
    "\n",
    "#Answer 5\n",
    "\n",
    "\"\"\"\n",
    "Custom exceptions are user-defined exceptions in Python. They allow you to \n",
    "define specific types of exceptions for your application, so you can handle \n",
    "errors and exceptions in a more organized and meaningful way.\n",
    "\n",
    "For example, consider a scenario where you are writing a library that performs\n",
    "some mathematical calculations. In this library, you may encounter several \n",
    "different types of errors, such as invalid input, overflow, and divide-by-zero\n",
    "errors. You could handle these errors by raising built-in exceptions, such as \n",
    "ValueError or ZeroDivisionError, but it may not provide enough context or \n",
    "information about the error that has occurred.\n",
    "\n",
    "\"\"\"\n",
    "\n",
    "class InvalidInputError(Exception):\n",
    "    pass\n",
    "\n",
    "class OverflowError(Exception):\n",
    "    pass\n",
    "\n",
    "class DivideByZeroError(Exception):\n",
    "    pass\n",
    "\n",
    "def divide(x, y):\n",
    "    if y == 0:\n",
    "        raise DivideByZeroError(\"Cannot divide by zero\")\n",
    "    return x / y\n",
    "\n",
    "def calculate(x, y):\n",
    "    try:\n",
    "        if x < 0 or y < 0:\n",
    "            raise InvalidInputError(\"Input values must be positive\")\n",
    "        result = divide(x, y)\n",
    "    except DivideByZeroError as e:\n",
    "        print(e)\n",
    "    except InvalidInputError as e:\n",
    "        print(e)\n",
    "    else:\n",
    "        return result\n",
    "\n",
    "print(calculate(10, 5)) # Output: 2.0\n",
    "print(calculate(-10, 5)) # Output: Input values must be positive\n",
    "print(calculate(10, 0)) # Output: Cannot divide by zero"
   ]
  },
  {
   "cell_type": "code",
   "execution_count": 8,
   "id": "226643af-509b-41bc-808f-9ece82c69f8f",
   "metadata": {},
   "outputs": [
    {
     "name": "stdout",
     "output_type": "stream",
     "text": [
      "2.0\n",
      "Cannot divide by zero\n"
     ]
    }
   ],
   "source": [
    "\"\"\"\n",
    "Q6. Create a custom exception class. Use this class to handle an exception.\n",
    "\"\"\"\n",
    "\n",
    "#Answer 6\n",
    "\n",
    "class CustomException(Exception):\n",
    "    pass\n",
    "\n",
    "def divide(x, y):\n",
    "    if y == 0:\n",
    "        raise CustomException(\"Cannot divide by zero\")\n",
    "    return x / y\n",
    "\n",
    "try:\n",
    "    print(divide(10, 5)) # Output: 2.0\n",
    "    print(divide(10, 0))\n",
    "except CustomException as e:\n",
    "    print(e) # Output: Cannot divide by zero"
   ]
  },
  {
   "cell_type": "code",
   "execution_count": null,
   "id": "174e525e-6d4c-4589-9bf8-092df4361162",
   "metadata": {},
   "outputs": [],
   "source": []
  }
 ],
 "metadata": {
  "kernelspec": {
   "display_name": "Python 3 (ipykernel)",
   "language": "python",
   "name": "python3"
  },
  "language_info": {
   "codemirror_mode": {
    "name": "ipython",
    "version": 3
   },
   "file_extension": ".py",
   "mimetype": "text/x-python",
   "name": "python",
   "nbconvert_exporter": "python",
   "pygments_lexer": "ipython3",
   "version": "3.10.8"
  }
 },
 "nbformat": 4,
 "nbformat_minor": 5
}

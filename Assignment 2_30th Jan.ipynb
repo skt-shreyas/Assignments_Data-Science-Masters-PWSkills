{
 "cells": [
  {
   "cell_type": "code",
   "execution_count": 1,
   "id": "cfe772f2-c2d5-4aa7-bf68-78b293cd215c",
   "metadata": {},
   "outputs": [
    {
     "name": "stdin",
     "output_type": "stream",
     "text": [
      "What is your percentage scored? 78.7\n"
     ]
    },
    {
     "name": "stdout",
     "output_type": "stream",
     "text": [
      "Your score is grade C\n"
     ]
    }
   ],
   "source": [
    "#Answer 1\n",
    "\n",
    "percentage= float(input(\"What is your percentage scored?\"))\n",
    "if percentage > 90:\n",
    "    print(\"Your score is grade A\")\n",
    "elif percentage > 80 and percentage <= 90:\n",
    "    print(\"Your score is grade B\")\n",
    "elif percentage >= 60 and percentage <= 80:\n",
    "    print(\"Your score is grade C\")\n",
    "elif percentage < 60:\n",
    "    print(\"Your score is grade D\")\n",
    "else:\n",
    "    print(\"You have not passed\")"
   ]
  },
  {
   "cell_type": "code",
   "execution_count": 2,
   "id": "f6118131-ccfe-4c58-9934-a8e9002b026b",
   "metadata": {},
   "outputs": [
    {
     "name": "stdin",
     "output_type": "stream",
     "text": [
      "What is the cost of your bike in Rupees 200000\n"
     ]
    },
    {
     "name": "stdout",
     "output_type": "stream",
     "text": [
      "You must pay the road tax of about 15%\n"
     ]
    }
   ],
   "source": [
    "#Answer 2\n",
    "\n",
    "price= int(input(\"What is the cost of your bike in Rupees\"))\n",
    "if price >100000:\n",
    "    print(\"You must pay the road tax of about 15%\")\n",
    "elif price >50000 and price <= 100000:\n",
    "    print(\"Your must pay the road tax of about 10%\")\n",
    "elif price <=50000:\n",
    "    print(\"You must pay the road tax of about 5%\")\n",
    "else:\n",
    "    print(\"You dont have to pay the tax\")"
   ]
  },
  {
   "cell_type": "code",
   "execution_count": 3,
   "id": "6fb39c48-b648-4161-906d-0a3e9ebc8e32",
   "metadata": {},
   "outputs": [
    {
     "name": "stdout",
     "output_type": "stream",
     "text": [
      "List of cities ['Delhi', 'Agra', 'Jaipur']\n"
     ]
    },
    {
     "name": "stdin",
     "output_type": "stream",
     "text": [
      "Choose any city from the above list agra\n"
     ]
    },
    {
     "name": "stdout",
     "output_type": "stream",
     "text": [
      "You can visit monument like Taj Mahal\n"
     ]
    }
   ],
   "source": [
    "#Answer 3\n",
    "\n",
    "l1=[\"Delhi\", \"Agra\", \"Jaipur\"]\n",
    "print(\"List of cities\", l1)\n",
    "\n",
    "city= input(\"Choose any city from the above list\")\n",
    "if city == \"Agra\" or city == \"agra\":\n",
    "    print(\"You can visit monument like Taj Mahal\")\n",
    "elif city == \"Delhi\" or city== \"delhi\":\n",
    "    print(\"You can visit monument like Red Fort\")\n",
    "elif city == \"Jaipur\" or city== \"jaipur\":\n",
    "    print(\"You can visit monument like Jal Mahal\")\n",
    "else:\n",
    "    print(\"Choose a different city from the list\")"
   ]
  },
  {
   "cell_type": "code",
   "execution_count": 4,
   "id": "2c0658d3-5fc4-4454-93fe-d3771c5ecfbd",
   "metadata": {},
   "outputs": [
    {
     "name": "stdin",
     "output_type": "stream",
     "text": [
      "Enter any numbers 345\n"
     ]
    },
    {
     "name": "stdout",
     "output_type": "stream",
     "text": [
      "4\n"
     ]
    }
   ],
   "source": [
    "#Answer 4\n",
    "\n",
    "number = int(input(\"Enter any numbers\"))\n",
    "count = 0\n",
    "while number > 10:\n",
    "    number = number / 3\n",
    "    count += 1\n",
    "print(count)"
   ]
  },
  {
   "cell_type": "code",
   "execution_count": 5,
   "id": "3c6cf1f1-3a11-4816-8ee2-f8c505955001",
   "metadata": {},
   "outputs": [
    {
     "data": {
      "text/plain": [
       "'\\n A while loop will run a piece of code while a condition is True. \\n It will keep executing the desired set of code statements until that \\n condition is no longer True. A while loop will always first check the\\n condition before running.\\n       The syntax of while loop is given as:\\n       while condition:\\n       # body of while loop\\n For example if we want to ask a user for a number between 1 and 10, \\n we don\\'t know how many times the user may enter a larger number, \\n so we keep asking \"while the number is not between 1 and 10\".\\n \\n'"
      ]
     },
     "execution_count": 5,
     "metadata": {},
     "output_type": "execute_result"
    }
   ],
   "source": [
    "#Answer 5\n",
    "\n",
    "\"\"\"\n",
    " A while loop will run a piece of code while a condition is True. \n",
    " It will keep executing the desired set of code statements until that \n",
    " condition is no longer True. A while loop will always first check the\n",
    " condition before running.\n",
    "       The syntax of while loop is given as:\n",
    "       while condition:\n",
    "       # body of while loop\n",
    " For example if we want to ask a user for a number between 1 and 10, \n",
    " we don't know how many times the user may enter a larger number, \n",
    " so we keep asking \"while the number is not between 1 and 10\".\n",
    " \n",
    "\"\"\""
   ]
  },
  {
   "cell_type": "code",
   "execution_count": 38,
   "id": "36d9dbdd-8f87-4824-a83f-3428f8765f5f",
   "metadata": {},
   "outputs": [
    {
     "name": "stdout",
     "output_type": "stream",
     "text": [
      "*\n",
      "**\n",
      "***\n",
      "****\n",
      "*****\n",
      "-----\n",
      "    *\n",
      "   **\n",
      "  ***\n",
      " ****\n",
      "*****\n",
      "-----\n",
      "*****\n",
      "****\n",
      "***\n",
      "**\n",
      "*\n",
      "-----\n"
     ]
    }
   ],
   "source": [
    "#Answer 6\n",
    "\n",
    "# Pattern 1:\n",
    "i = 1\n",
    "while i <= 5:\n",
    "    j = 1\n",
    "    while j <= i:\n",
    "        print(\"*\", end=\"\")\n",
    "        j += 1\n",
    "    print(\"\")\n",
    "    i += 1\n",
    "    \n",
    "print(\"-----\")\n",
    "\n",
    "\n",
    "# Pattern 2:\n",
    "i = 5\n",
    "while i >= 1:\n",
    "    j = 1\n",
    "    while j <= 5:\n",
    "        if j >= i:\n",
    "            print(\"*\", end=\"\")\n",
    "        else:\n",
    "            print(\" \", end=\"\")\n",
    "        j += 1\n",
    "    print(\"\")\n",
    "    i -= 1\n",
    "print(\"-----\")\n",
    "\n",
    "# Pattern 3:\n",
    "i = 5\n",
    "while i >= 1:\n",
    "    j = i\n",
    "    while j >= 1:\n",
    "        print(\"*\", end=\"\")\n",
    "        j -= 1\n",
    "    print(\"\")\n",
    "    i -= 1\n",
    "\n",
    "print(\"-----\")"
   ]
  },
  {
   "cell_type": "code",
   "execution_count": 36,
   "id": "1c88d5a6-0473-4627-88fe-4de7bb342855",
   "metadata": {},
   "outputs": [
    {
     "name": "stdout",
     "output_type": "stream",
     "text": [
      "10\n",
      "9\n",
      "8\n",
      "7\n",
      "6\n",
      "5\n",
      "4\n",
      "3\n",
      "2\n",
      "1\n"
     ]
    }
   ],
   "source": [
    "#Answer 7\n",
    "\n",
    "n=11\n",
    "while n>1:\n",
    "    n=n-1\n",
    "    print(n)"
   ]
  },
  {
   "cell_type": "code",
   "execution_count": null,
   "id": "bc7c6bd4-125a-481a-a256-2d1426f7a43d",
   "metadata": {},
   "outputs": [],
   "source": []
  }
 ],
 "metadata": {
  "kernelspec": {
   "display_name": "Python 3 (ipykernel)",
   "language": "python",
   "name": "python3"
  },
  "language_info": {
   "codemirror_mode": {
    "name": "ipython",
    "version": 3
   },
   "file_extension": ".py",
   "mimetype": "text/x-python",
   "name": "python",
   "nbconvert_exporter": "python",
   "pygments_lexer": "ipython3",
   "version": "3.10.8"
  }
 },
 "nbformat": 4,
 "nbformat_minor": 5
}

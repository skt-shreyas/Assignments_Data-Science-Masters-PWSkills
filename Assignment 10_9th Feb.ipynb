{
 "cells": [
  {
   "cell_type": "code",
   "execution_count": 7,
   "id": "682161a1-b613-4048-aaaa-3fd0125ece1b",
   "metadata": {},
   "outputs": [
    {
     "name": "stdout",
     "output_type": "stream",
     "text": [
      "Maruti 800\n",
      "160\n",
      "15\n"
     ]
    }
   ],
   "source": [
    "\"\"\"\n",
    "Q1. Create a vehicle class with an init method having instance variables as \n",
    "name_of_vehicle, max_speed and average_of_vehicle.\n",
    "\"\"\"\n",
    "\n",
    "#Answer\n",
    "\n",
    "class vehicle:\n",
    "    def __init__(self, name_of_vehicle, max_speed, average_of_vehicle):\n",
    "        self.name_of_vehicle = name_of_vehicle\n",
    "        self.max_speed = max_speed\n",
    "        self.average_of_vehicle = average_of_vehicle\n",
    "        \n",
    "car = vehicle(\"Maruti 800\", 160, 15)\n",
    "print(car.name_of_vehicle)  \n",
    "print(car.max_speed) \n",
    "print(car.average_of_vehicle) "
   ]
  },
  {
   "cell_type": "code",
   "execution_count": 8,
   "id": "c29c510b-1c8c-4650-9049-cca9511bef55",
   "metadata": {},
   "outputs": [
    {
     "name": "stdout",
     "output_type": "stream",
     "text": [
      "The My Car has a seating capacity of 5.\n"
     ]
    }
   ],
   "source": [
    "\"\"\"\n",
    "Q2. Create a child class car from the vehicle class created in Que 1, which \n",
    "will inherit the vehicle class.Create a method named seating_capacity which \n",
    "takes capacity as an argument and returns the name of the vehicle and its \n",
    "seating capacity.\n",
    "\"\"\"\n",
    "\n",
    "#Answer 2\n",
    "\n",
    "class Car(vehicle):\n",
    "    def seating_capacity(self, capacity):\n",
    "        return f\"The {self.name_of_vehicle} has a seating capacity of {capacity}.\"\n",
    "    \n",
    "my_car = Car(\"My Car\", 150, 15)\n",
    "print(my_car.seating_capacity(5)) \n"
   ]
  },
  {
   "cell_type": "code",
   "execution_count": 9,
   "id": "64eeff10-3d91-4a65-a7a7-ae739cf97c46",
   "metadata": {},
   "outputs": [
    {
     "name": "stdout",
     "output_type": "stream",
     "text": [
      "Mammals can give direct birth.\n",
      "Winged animals can flap.\n"
     ]
    }
   ],
   "source": [
    "\"\"\"\n",
    "Q3.What is multiple inheritance? Write a python code to demonstrate multiple \n",
    "inheritance.\n",
    "\"\"\"\n",
    "\n",
    "#Answer 3\n",
    "\n",
    "\"\"\"\n",
    "\n",
    "A class can be derived from more than one superclass in Python. This is called \n",
    "multiple inheritance.\n",
    "If a child class inherits from more than one class, i.e. this child class is \n",
    "derived from multiple classes, we call it multiple inheritance in Python.\n",
    "\n",
    "\n",
    "\"\"\"\n",
    "\n",
    "class Mammal:\n",
    "    def mammal_info(self):\n",
    "        print(\"Mammals can give direct birth.\")\n",
    "\n",
    "class WingedAnimal:\n",
    "    def winged_animal_info(self):\n",
    "        print(\"Winged animals can flap.\")\n",
    "\n",
    "class Bat(Mammal, WingedAnimal):\n",
    "    pass\n",
    "\n",
    "# create an object of Bat class\n",
    "b1 = Bat()\n",
    "\n",
    "b1.mammal_info()\n",
    "b1.winged_animal_info()"
   ]
  },
  {
   "cell_type": "code",
   "execution_count": null,
   "id": "9eab568a-5af6-4d04-896e-eba4a47ef8e4",
   "metadata": {},
   "outputs": [],
   "source": [
    "\"\"\"\n",
    "Q4. What are getter and setter in python? Create a class and create a getter \n",
    "and a setter method in this class.\n",
    "\"\"\"\n",
    "\n",
    "#Answer 4\n",
    "\n",
    "\"\"\"\n",
    "In Python, getters and setters are not the same as those in other object-\n",
    "oriented programming languages. Basically, the main purpose of using getters \n",
    "and setters in object-oriented programs is to ensure data encapsulation.\n",
    "\n",
    ">>>> We use getters & setters to add validation logic around getting and \n",
    "setting a value.\n",
    ">>>> To avoid direct access of a class field i.e. private variables cannot \n",
    "be accessed directly or modified by external user.\n",
    "\n",
    "\"\"\""
   ]
  },
  {
   "cell_type": "code",
   "execution_count": 6,
   "id": "5efa2b9d-47e6-4d18-bde5-8d8dccff94f5",
   "metadata": {},
   "outputs": [
    {
     "data": {
      "text/plain": [
       "'\\nAn abstract class is a class, but not one you can create objects from directly.\\nIts purpose is to define how other classes should look like, i.e. what methods \\nand properties they are expected to have\\n\\nAbstract classes cannot be instantiated, but they can be subclassed. When an \\nabstract class is subclassed, the subclass usually provides implementations \\nfor all of the abstract methods in its parent class. However, if it does not, \\nthen the subclass must also be declared abstract .\\n\\n'"
      ]
     },
     "execution_count": 6,
     "metadata": {},
     "output_type": "execute_result"
    }
   ],
   "source": [
    "\"\"\"\n",
    "Q5.What is method overriding in python? Write a python code to demonstrate method overriding.\n",
    "\"\"\"\n",
    "\n",
    "#Answer 5\n",
    "\n",
    "\"\"\"\n",
    "When a method in a subclass has the same name, same parameters or signature \n",
    "and same return type(or sub-type) as a method in its super-class, then the \n",
    "method in the subclass is said to override the method in the super-class.\n",
    "Method overriding is an ability of any object-oriented programming language \n",
    "that allows a subclass or child class to provide a specific implementation \n",
    "of a method that is already provided by one of its super-classes or parent \n",
    "classes.\n",
    "\n",
    "\"\"\"\n",
    "class Parent():\n",
    "    def __init__(self):\n",
    "        self.value = \"Inside Parent\"\n",
    "    def show(self):\n",
    "        print(self.value)\n",
    "# Defining child class\n",
    "class Child(Parent):\n",
    "    def __init__(self):\n",
    "        self.value = \"Inside Child\"\n",
    "    def show(self):\n",
    "        print(self.value)\n",
    "          \n",
    "obj1 = Parent()\n",
    "obj2 = Child()\n",
    "obj1.show()\n",
    "obj2.show()\n"
   ]
  },
  {
   "cell_type": "code",
   "execution_count": null,
   "id": "226643af-509b-41bc-808f-9ece82c69f8f",
   "metadata": {},
   "outputs": [],
   "source": []
  }
 ],
 "metadata": {
  "kernelspec": {
   "display_name": "Python 3 (ipykernel)",
   "language": "python",
   "name": "python3"
  },
  "language_info": {
   "codemirror_mode": {
    "name": "ipython",
    "version": 3
   },
   "file_extension": ".py",
   "mimetype": "text/x-python",
   "name": "python",
   "nbconvert_exporter": "python",
   "pygments_lexer": "ipython3",
   "version": "3.10.8"
  }
 },
 "nbformat": 4,
 "nbformat_minor": 5
}

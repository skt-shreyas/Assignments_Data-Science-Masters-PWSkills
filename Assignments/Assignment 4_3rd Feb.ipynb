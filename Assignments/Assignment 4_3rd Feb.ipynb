{
 "cells": [
  {
   "cell_type": "code",
   "execution_count": 1,
   "id": "cfe772f2-c2d5-4aa7-bf68-78b293cd215c",
   "metadata": {},
   "outputs": [
    {
     "name": "stdout",
     "output_type": "stream",
     "text": [
      "[1, 3, 5, 7, 9, 11, 13, 15, 17, 19, 21, 23, 25]\n"
     ]
    }
   ],
   "source": [
    "\"\"\"Q1 Which keyword is used to create a function? Create a function \n",
    "to return a list of odd numbers in the range of 1 to 25.\"\"\"\n",
    "\n",
    "#Answer 1\n",
    "\n",
    "\"\"\"The def keyword is used to create, (or define) a function.\"\"\"\n",
    "\n",
    "def odd_numbers():\n",
    "    odd_num=[]\n",
    "    for i in range(1,26):\n",
    "        if i%2!=0:\n",
    "            odd_num.append(i) \n",
    "    return(odd_num)\n",
    "print(odd_numbers())"
   ]
  },
  {
   "cell_type": "code",
   "execution_count": 2,
   "id": "f6118131-ccfe-4c58-9934-a8e9002b026b",
   "metadata": {},
   "outputs": [],
   "source": [
    "\"\"\"Q2. Why *args and **kwargs is used in some functions? Create a function each for \n",
    "*args and **kwargs to demonstrate their use.\"\"\"\n",
    "\n",
    "#Answer 2\n",
    "\n",
    "\"\"\"\n",
    "\n",
    "You can use *args and **kwargs as arguments of a function when you\n",
    "are unsure about the number of arguments to pass in the functions.\n",
    "\n",
    ">>>> *args allows us to pass a variable number of non-keyword arguments to a \n",
    "     Python function. In the function, we should use an asterisk (*) before \n",
    "     the parameter name to pass a variable number of arguments.\n",
    "\n",
    "\"\"\"\n",
    "def numbers(*args):\n",
    "    print(args, type(args))\n",
    "\n",
    "\n",
    "\"\"\"\n",
    "\n",
    ">>>> **kwargs allows us to pass a variable number of keyword arguments to a \n",
    "     Python function. In the function, we use the double-asterisk (**) before \n",
    "     the parameter name to denote this type of argument.\n",
    "\n",
    "\"\"\"\n",
    "def total_fruits(**kwargs):\n",
    "    print(kwargs, type(kwargs))\n",
    "    "
   ]
  },
  {
   "cell_type": "code",
   "execution_count": 3,
   "id": "6dd719c5-cfe7-4562-a582-4e2579af1cd6",
   "metadata": {},
   "outputs": [
    {
     "name": "stdout",
     "output_type": "stream",
     "text": [
      "(2, 3) <class 'tuple'>\n",
      "{'banana': 5, 'mango': 7, 'apple': 8} <class 'dict'>\n"
     ]
    }
   ],
   "source": [
    "numbers(2, 3)\n",
    "total_fruits(banana=5, mango=7, apple=8)"
   ]
  },
  {
   "cell_type": "code",
   "execution_count": 4,
   "id": "6fb39c48-b648-4161-906d-0a3e9ebc8e32",
   "metadata": {},
   "outputs": [],
   "source": [
    "\"\"\"Q3. What is an iterator in python? Name the method used to initialise the iterator \n",
    "object and the method used for iteration. Use these methods to print the first five \n",
    "elements of the given list [2, 4, 6, 8, 10, 12, 14,16, 18, 20]. \"\"\"\n",
    "\n",
    "#Answer 3\n",
    "\n",
    "\"\"\"\n",
    "\n",
    "An iterator is an object that contains a countable number of values. \n",
    "An iterator is an object that can be iterated upon, meaning that you \n",
    "can traverse through all the values. Technically, in Python, an iterator \n",
    "is an object which implements the iterator protocol, which consist of \n",
    "the methods __iter__() and __next__() .\n",
    "\n",
    ">>>>>> __iter__() method is used to initialize an iterator object.\n",
    ">>>>>> __next__() method also allows us to do operations (iteration), \n",
    "       and must return the next item in the sequence\n",
    "\n",
    "\"\"\"\n",
    "l1=[2, 4, 6, 8, 10, 12, 14, 16, 18, 20]\n",
    "l2=iter(l1)\n"
   ]
  },
  {
   "cell_type": "code",
   "execution_count": 5,
   "id": "6d24ee23-96ce-4354-a4f5-f8ac44223d15",
   "metadata": {},
   "outputs": [
    {
     "name": "stdout",
     "output_type": "stream",
     "text": [
      "2\n"
     ]
    }
   ],
   "source": [
    "print(next(l2))"
   ]
  },
  {
   "cell_type": "code",
   "execution_count": 6,
   "id": "7de92240-67ba-4145-837f-27c090fb2ca0",
   "metadata": {},
   "outputs": [
    {
     "name": "stdout",
     "output_type": "stream",
     "text": [
      "4\n"
     ]
    }
   ],
   "source": [
    "print(next(l2))"
   ]
  },
  {
   "cell_type": "code",
   "execution_count": 7,
   "id": "50c9f457-78e9-4253-b3d4-42a235455831",
   "metadata": {},
   "outputs": [
    {
     "name": "stdout",
     "output_type": "stream",
     "text": [
      "6\n"
     ]
    }
   ],
   "source": [
    "print(next(l2))"
   ]
  },
  {
   "cell_type": "code",
   "execution_count": 8,
   "id": "8915cda6-9498-4dc4-9507-3516a6cd715c",
   "metadata": {},
   "outputs": [
    {
     "name": "stdout",
     "output_type": "stream",
     "text": [
      "8\n"
     ]
    }
   ],
   "source": [
    "print(next(l2))"
   ]
  },
  {
   "cell_type": "code",
   "execution_count": 9,
   "id": "27bc5189-daa2-45e5-ab19-9cdd5c2a283c",
   "metadata": {},
   "outputs": [
    {
     "name": "stdout",
     "output_type": "stream",
     "text": [
      "10\n"
     ]
    }
   ],
   "source": [
    "print(next(l2))"
   ]
  },
  {
   "cell_type": "code",
   "execution_count": 10,
   "id": "2c0658d3-5fc4-4454-93fe-d3771c5ecfbd",
   "metadata": {},
   "outputs": [
    {
     "name": "stdout",
     "output_type": "stream",
     "text": [
      "0\n",
      "1\n",
      "2\n"
     ]
    }
   ],
   "source": [
    "\"\"\"Q4. What is a generator function in python? Why yield keyword is used? \n",
    "Give an example of a generator function. \"\"\"\n",
    "\n",
    "#Answer 4\n",
    "\"\"\"\n",
    "\n",
    "A generator-function is defined like a normal function, but whenever it \n",
    "needs to generate a value, it does so with the yield keyword rather than \n",
    "return. If the body of a def contains yield, the function automatically \n",
    "becomes a generator function. It return a generator object. Generator \n",
    "objects are used either by calling the next method on the generator object\n",
    "or using the generator object in a “for in” loop\n",
    "\n",
    "\n",
    ">>>>>> The yield keyword in Python controls the flow of a generator function. \n",
    "       This is similar to a return statement used for returning values in Python.\n",
    "\n",
    "\"\"\"\n",
    "def generator_fun (n):\n",
    "    value = 0\n",
    "    while value < n:\n",
    "        yield value\n",
    "        value += 1\n",
    "for value in generator_fun(3):\n",
    "    print(value)\n"
   ]
  },
  {
   "cell_type": "code",
   "execution_count": 11,
   "id": "3c6cf1f1-3a11-4816-8ee2-f8c505955001",
   "metadata": {},
   "outputs": [],
   "source": [
    "\"\"\"Q5. Create a generator function for prime numbers less than 1000. Use the \n",
    "next() method to print the first 20 prime numbers.\"\"\"\n",
    "\n",
    "#Answer 5\n",
    "\n",
    "def prime_num(n):\n",
    "    i=2 \n",
    "    while i <n:\n",
    "        prime= True\n",
    "        for a in range(2,i):\n",
    "            if i%a==0:\n",
    "                prime= False\n",
    "                break\n",
    "        if prime:\n",
    "            yield i\n",
    "        i+= 1"
   ]
  },
  {
   "cell_type": "code",
   "execution_count": 12,
   "id": "99ba544c-6274-4986-8016-cb194b6d9eaf",
   "metadata": {},
   "outputs": [
    {
     "name": "stdout",
     "output_type": "stream",
     "text": [
      "[2, 3, 5, 7, 11, 13, 17, 19, 23, 29, 31, 37, 41, 43, 47, 53, 59, 61, 67, 71, 73, 79, 83, 89, 97, 101, 103, 107, 109, 113, 127, 131, 137, 139, 149, 151, 157, 163, 167, 173, 179, 181, 191, 193, 197, 199, 211, 223, 227, 229, 233, 239, 241, 251, 257, 263, 269, 271, 277, 281, 283, 293, 307, 311, 313, 317, 331, 337, 347, 349, 353, 359, 367, 373, 379, 383, 389, 397, 401, 409, 419, 421, 431, 433, 439, 443, 449, 457, 461, 463, 467, 479, 487, 491, 499, 503, 509, 521, 523, 541, 547, 557, 563, 569, 571, 577, 587, 593, 599, 601, 607, 613, 617, 619, 631, 641, 643, 647, 653, 659, 661, 673, 677, 683, 691, 701, 709, 719, 727, 733, 739, 743, 751, 757, 761, 769, 773, 787, 797, 809, 811, 821, 823, 827, 829, 839, 853, 857, 859, 863, 877, 881, 883, 887, 907, 911, 919, 929, 937, 941, 947, 953, 967, 971, 977, 983, 991, 997]\n"
     ]
    }
   ],
   "source": [
    "p = prime_num(1000)\n",
    "primes = [i for i in p]\n",
    "\n",
    "print(primes)"
   ]
  },
  {
   "cell_type": "code",
   "execution_count": 13,
   "id": "e1d4a268-5d22-4fa8-895c-2438fef800c9",
   "metadata": {},
   "outputs": [
    {
     "name": "stdout",
     "output_type": "stream",
     "text": [
      "0\n",
      "1\n",
      "1\n",
      "2\n",
      "3\n",
      "5\n",
      "8\n",
      "13\n",
      "21\n",
      "34\n"
     ]
    }
   ],
   "source": [
    "\n",
    "\n",
    "#Answer 6\n",
    "\n",
    "a, b = 0, 1\n",
    "count = 0\n",
    "\n",
    "while count < 10:\n",
    "    print(a)\n",
    "    a, b = b, a + b\n",
    "    count += 1"
   ]
  },
  {
   "cell_type": "code",
   "execution_count": 14,
   "id": "ea79fb7b-96d2-4c71-a605-51129c1692c1",
   "metadata": {},
   "outputs": [
    {
     "name": "stdout",
     "output_type": "stream",
     "text": [
      "['p', 'w', 's', 'k', 'i', 'l', 'l', 's']\n"
     ]
    }
   ],
   "source": [
    "#Answer 7\n",
    "\n",
    "l1=('pwskills')\n",
    "i =[i for i in l1]\n",
    "print(i)"
   ]
  },
  {
   "cell_type": "code",
   "execution_count": 15,
   "id": "27983636-0d20-4bd5-be30-9e9eae3d7e5b",
   "metadata": {},
   "outputs": [
    {
     "name": "stdin",
     "output_type": "stream",
     "text": [
      "Enter a number:  1001\n"
     ]
    },
    {
     "name": "stdout",
     "output_type": "stream",
     "text": [
      "1001 is a palindrome.\n"
     ]
    }
   ],
   "source": [
    "\"\"\"Q8. Write a python program to check whether a given number \n",
    "is Palindrome or not using a while loop.\"\"\"\n",
    "\n",
    "#Answer 8\n",
    "\n",
    "def palindrome_num(n):\n",
    "    original= n\n",
    "    reverse=0\n",
    "    while n>0:\n",
    "        remainder=n%10\n",
    "        reverse=reverse*10+ remainder\n",
    "        n=n//10\n",
    "    return original== reverse\n",
    "\n",
    "number = int(input(\"Enter a number: \"))\n",
    "if palindrome_num(number):\n",
    "    print(f\"{number} is a palindrome.\")\n",
    "else:\n",
    "    print(f\"{number} is not a palindrome.\")"
   ]
  },
  {
   "cell_type": "code",
   "execution_count": 16,
   "id": "1b1833ef-e4b7-4d60-a93c-1690fc57d5e6",
   "metadata": {},
   "outputs": [
    {
     "data": {
      "text/plain": [
       "[1,\n",
       " 3,\n",
       " 5,\n",
       " 7,\n",
       " 9,\n",
       " 11,\n",
       " 13,\n",
       " 15,\n",
       " 17,\n",
       " 19,\n",
       " 21,\n",
       " 23,\n",
       " 25,\n",
       " 27,\n",
       " 29,\n",
       " 31,\n",
       " 33,\n",
       " 35,\n",
       " 37,\n",
       " 39,\n",
       " 41,\n",
       " 43,\n",
       " 45,\n",
       " 47,\n",
       " 49,\n",
       " 51,\n",
       " 53,\n",
       " 55,\n",
       " 57,\n",
       " 59,\n",
       " 61,\n",
       " 63,\n",
       " 65,\n",
       " 67,\n",
       " 69,\n",
       " 71,\n",
       " 73,\n",
       " 75,\n",
       " 77,\n",
       " 79,\n",
       " 81,\n",
       " 83,\n",
       " 85,\n",
       " 87,\n",
       " 89,\n",
       " 91,\n",
       " 93,\n",
       " 95,\n",
       " 97,\n",
       " 99]"
      ]
     },
     "execution_count": 16,
     "metadata": {},
     "output_type": "execute_result"
    }
   ],
   "source": [
    "\"\"\"Write a code to print odd numbers from 1 to 100 using list comprehension.\"\"\"\n",
    "\n",
    "#Answer 9\n",
    "\n",
    "l= range(1,100)\n",
    "[i for i in l if i%2!=0 ]"
   ]
  }
 ],
 "metadata": {
  "kernelspec": {
   "display_name": "Python 3 (ipykernel)",
   "language": "python",
   "name": "python3"
  },
  "language_info": {
   "codemirror_mode": {
    "name": "ipython",
    "version": 3
   },
   "file_extension": ".py",
   "mimetype": "text/x-python",
   "name": "python",
   "nbconvert_exporter": "python",
   "pygments_lexer": "ipython3",
   "version": "3.10.8"
  }
 },
 "nbformat": 4,
 "nbformat_minor": 5
}

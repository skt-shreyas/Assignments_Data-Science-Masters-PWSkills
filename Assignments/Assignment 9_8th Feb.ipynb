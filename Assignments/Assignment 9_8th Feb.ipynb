{
 "cells": [
  {
   "cell_type": "code",
   "execution_count": 1,
   "id": "682161a1-b613-4048-aaaa-3fd0125ece1b",
   "metadata": {},
   "outputs": [
    {
     "data": {
      "text/plain": [
       "\"\\nAbstraction can be of two types, namely, data abstraction and control \\nabstraction. Data abstraction means hiding the details about the data and \\ncontrol abstraction means hiding the implementation details. It is the \\nprocess of selecting data to show only the relevant information to the user.\\n\\n\\nEXAMPLE\\nOur car is a great example of abstraction. We can start a car by turning \\nthe key or pressing the start button. We don't need to know how the engine \\nis getting started, what all components our car has. The car internal \\nimplementation and complex logic is completely hidden from the user.\\n\""
      ]
     },
     "execution_count": 1,
     "metadata": {},
     "output_type": "execute_result"
    }
   ],
   "source": [
    "\"\"\"\n",
    "Q1. What is Abstraction in OOps? Explain with an example.\n",
    "\"\"\"\n",
    "\n",
    "#Answer\n",
    "\n",
    "\"\"\"\n",
    "Abstraction can be of two types, namely, data abstraction and control \n",
    "abstraction. Data abstraction means hiding the details about the data and \n",
    "control abstraction means hiding the implementation details. It is the \n",
    "process of selecting data to show only the relevant information to the user.\n",
    "\n",
    "\n",
    "EXAMPLE\n",
    "Our car is a great example of abstraction. We can start a car by turning \n",
    "the key or pressing the start button. We don't need to know how the engine \n",
    "is getting started, what all components our car has. The car internal \n",
    "implementation and complex logic is completely hidden from the user.\n",
    "\"\"\""
   ]
  },
  {
   "cell_type": "code",
   "execution_count": 2,
   "id": "c29c510b-1c8c-4650-9049-cca9511bef55",
   "metadata": {},
   "outputs": [
    {
     "data": {
      "text/plain": [
       "'\\nAbstraction is a way of representing some specific data. Encapsulation is a \\nway of hiding the complexity of something and exposing only the parts you wish\\nto expose. \\nAbstraction is the process or method of gaining the information. While \\nencapsulation is the process or method to contain the information.\\n\\n\\nFor example, if you have a class that has one or more private fields that \\nyou use to store the data, then you are in encapsulation.\\n'"
      ]
     },
     "execution_count": 2,
     "metadata": {},
     "output_type": "execute_result"
    }
   ],
   "source": [
    "\"\"\"\n",
    "Q2. Differentiate between Abstraction and Encapsulation. Explain with \n",
    "an example.\n",
    "\"\"\"\n",
    "\n",
    "#Answer 2\n",
    "\n",
    "\"\"\"\n",
    "Abstraction is a way of representing some specific data. Encapsulation is a \n",
    "way of hiding the complexity of something and exposing only the parts you wish\n",
    "to expose. \n",
    "Abstraction is the process or method of gaining the information. While \n",
    "encapsulation is the process or method to contain the information.\n",
    "\n",
    "\n",
    "For example, if you have a class that has one or more private fields that \n",
    "you use to store the data, then you are in encapsulation.\n",
    "\"\"\""
   ]
  },
  {
   "cell_type": "code",
   "execution_count": 3,
   "id": "64eeff10-3d91-4a65-a7a7-ae739cf97c46",
   "metadata": {},
   "outputs": [
    {
     "data": {
      "text/plain": [
       "\"\\n\\nThe 'abc' module in the Python library provides the infrastructure for \\ndefining custom abstract base classes. Abstract class cannot be instantiated \\nin python. An Abstract method can be call by its subclasses. his is done by \\n@absttractmethod decorator.\\n\\nAn abstract base class is therefore useful to describe abstract units of \\nbehaviors that can be shared by multiple classes; it specifies a contract \\nthat all concrete derived classes must conform to.\\n\\n\""
      ]
     },
     "execution_count": 3,
     "metadata": {},
     "output_type": "execute_result"
    }
   ],
   "source": [
    "\"\"\"\n",
    "Q3. What is abc module in python? Why is it used?\n",
    "\"\"\"\n",
    "\n",
    "#Answer 3\n",
    "\n",
    "\"\"\"\n",
    "\n",
    "The 'abc' module in the Python library provides the infrastructure for \n",
    "defining custom abstract base classes. Abstract class cannot be instantiated \n",
    "in python. An Abstract method can be call by its subclasses. his is done by \n",
    "@absttractmethod decorator.\n",
    "\n",
    "An abstract base class is therefore useful to describe abstract units of \n",
    "behaviors that can be shared by multiple classes; it specifies a contract \n",
    "that all concrete derived classes must conform to.\n",
    "\n",
    "\"\"\""
   ]
  },
  {
   "cell_type": "code",
   "execution_count": 4,
   "id": "9eab568a-5af6-4d04-896e-eba4a47ef8e4",
   "metadata": {},
   "outputs": [
    {
     "data": {
      "text/plain": [
       "'\\nIn Python, abstraction can be achieved by having/using abstract classes and \\nmethods in our programs.  An abstract method is a method that is declared, \\nbut does not contain implementation. \\n\\n'"
      ]
     },
     "execution_count": 4,
     "metadata": {},
     "output_type": "execute_result"
    }
   ],
   "source": [
    "\"\"\"\n",
    "Q4. How can we achieve data abstraction?\n",
    "\"\"\"\n",
    "\n",
    "#Answer 4\n",
    "\n",
    "\"\"\"\n",
    "In Python, abstraction can be achieved by having/using abstract classes and \n",
    "methods in our programs.  An abstract method is a method that is declared, \n",
    "but does not contain implementation. \n",
    "\n",
    "\"\"\""
   ]
  },
  {
   "cell_type": "code",
   "execution_count": null,
   "id": "5efa2b9d-47e6-4d18-bde5-8d8dccff94f5",
   "metadata": {},
   "outputs": [],
   "source": [
    "\"\"\"\n",
    "Q5. Can we create an instance of an abstract class? Explain your answer.\n",
    "\"\"\"\n",
    "\n",
    "#Answer 5\n",
    "\n",
    "\"\"\"\n",
    "Abstract classes cannot be instantiated, but they can be subclassed. When an \n",
    "abstract class is subclassed, the subclass usually provides implementations \n",
    "for all of the abstract methods in its parent class. However, if it does not, \n",
    "then the subclass must also be declared abstract .\n",
    "\n",
    "\"\"\""
   ]
  }
 ],
 "metadata": {
  "kernelspec": {
   "display_name": "Python 3 (ipykernel)",
   "language": "python",
   "name": "python3"
  },
  "language_info": {
   "codemirror_mode": {
    "name": "ipython",
    "version": 3
   },
   "file_extension": ".py",
   "mimetype": "text/x-python",
   "name": "python",
   "nbconvert_exporter": "python",
   "pygments_lexer": "ipython3",
   "version": "3.10.8"
  }
 },
 "nbformat": 4,
 "nbformat_minor": 5
}

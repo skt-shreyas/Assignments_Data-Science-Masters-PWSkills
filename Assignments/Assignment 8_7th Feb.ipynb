{
 "cells": [
  {
   "cell_type": "markdown",
   "id": "7e7e29de",
   "metadata": {},
   "source": [
    "Q1. Creating a passowrd validator for a company with a set of rules "
   ]
  },
  {
   "cell_type": "code",
   "execution_count": 2,
   "id": "8e53c341",
   "metadata": {},
   "outputs": [
    {
     "name": "stdout",
     "output_type": "stream",
     "text": [
      "enter passwordPW_skills@@2022\n",
      "valid password\n"
     ]
    }
   ],
   "source": [
    "def password_validation(password):\n",
    "    digit_count=0\n",
    "    lower_count=0\n",
    "    upper_count=0\n",
    "    special_count=0\n",
    "    \n",
    "    for x in password :\n",
    "        if x.isupper():\n",
    "            upper_count+=1\n",
    "        if x.islower():\n",
    "            lower_count+=1\n",
    "        if x.isdigit():\n",
    "            digit_count+=1\n",
    "        if not(x.isalnum()):\n",
    "            special_count+=1\n",
    "    if upper_count>=2 and lower_count>=2 and special_count>=3 and digit_count>=1 and len(password)>=10:\n",
    "        print(\"valid password\")\n",
    "    else :\n",
    "        print(\"invalid password\")\n",
    "        \n",
    "password=input(\"enter password\")\n",
    "password_validation(password)"
   ]
  },
  {
   "cell_type": "markdown",
   "id": "c56a200b",
   "metadata": {},
   "source": [
    "Q2. Solve the below-given questions using at least one of the following:\n",
    "Lambda function\n",
    "Filter function\n",
    "Map function\n",
    "List Comprehension\n",
    "\n",
    "Check if the string starts with a particular letter.\n",
    "\n",
    "Check if the string is numeric.\n",
    "\n",
    "Sort a list of tuples having fruit names and their quantity. [(\"mango\",99),(\"orange\",80), (\"grapes\", 1000)]\n",
    "\n",
    "Find the squares of numbers from 1 to 10.\n",
    "\n",
    "Find the cube root of numbers from 1 to 10.\n",
    "\n",
    "Check if a given number is even.\n",
    "\n",
    "Filter odd numbers from the given list. [1,2,3,4,5,6,7,8,9,10]\n",
    "\n",
    "Sort a list of integers into positive and negative integers lists. [1,2,3,4,5,6,-1,-2,-3,-4,-5,0]\n"
   ]
  },
  {
   "cell_type": "code",
   "execution_count": 4,
   "id": "4cd8a334",
   "metadata": {},
   "outputs": [
    {
     "data": {
      "text/plain": [
       "True"
      ]
     },
     "execution_count": 4,
     "metadata": {},
     "output_type": "execute_result"
    }
   ],
   "source": [
    "#Check if the string starts with a particular letter\n",
    "\n",
    "a=\"My name is Shreyas\"\n",
    "b=lambda a: a.startswith(\"M\")\n",
    "b(a)"
   ]
  },
  {
   "cell_type": "code",
   "execution_count": 5,
   "id": "59182ac7",
   "metadata": {},
   "outputs": [
    {
     "data": {
      "text/plain": [
       "True"
      ]
     },
     "execution_count": 5,
     "metadata": {},
     "output_type": "execute_result"
    }
   ],
   "source": [
    "q=\"123\"\n",
    "x=lambda p: p.isnumeric()\n",
    "x(q)"
   ]
  },
  {
   "cell_type": "code",
   "execution_count": 6,
   "id": "d17ddc79",
   "metadata": {},
   "outputs": [
    {
     "data": {
      "text/plain": [
       "[('orange', 80), ('mango', 99), ('grapes', 1000)]"
      ]
     },
     "execution_count": 6,
     "metadata": {},
     "output_type": "execute_result"
    }
   ],
   "source": [
    "#sorting based on quantity\n",
    "\n",
    "l=[(\"mango\",99),(\"orange\",80), (\"grapes\", 1000)] \n",
    "a=sorted(l,key = lambda x :x[1])\n",
    "a"
   ]
  },
  {
   "cell_type": "code",
   "execution_count": 7,
   "id": "1730fbef",
   "metadata": {},
   "outputs": [
    {
     "data": {
      "text/plain": [
       "[('grapes', 1000), ('mango', 99), ('orange', 80)]"
      ]
     },
     "execution_count": 7,
     "metadata": {},
     "output_type": "execute_result"
    }
   ],
   "source": [
    "#sorting based on fruit names \n",
    "\n",
    "l=[(\"mango\",99),(\"orange\",80), (\"grapes\", 1000)] \n",
    "b=sorted(l,key=lambda x : x[0])\n",
    "b"
   ]
  },
  {
   "cell_type": "code",
   "execution_count": 8,
   "id": "e0dde9aa",
   "metadata": {},
   "outputs": [
    {
     "data": {
      "text/plain": [
       "[1, 4, 9, 16, 25, 36, 49, 64, 81, 100]"
      ]
     },
     "execution_count": 8,
     "metadata": {},
     "output_type": "execute_result"
    }
   ],
   "source": [
    "#Find the squares of numbers from 1 to 10\n",
    "\n",
    "#using list comprehension\n",
    "\n",
    "[ x**2 for x in range(1,11)]"
   ]
  },
  {
   "cell_type": "code",
   "execution_count": 9,
   "id": "3a168f1a",
   "metadata": {},
   "outputs": [
    {
     "data": {
      "text/plain": [
       "[1, 4, 9, 16, 25, 36, 49, 64, 81, 100]"
      ]
     },
     "execution_count": 9,
     "metadata": {},
     "output_type": "execute_result"
    }
   ],
   "source": [
    "#Find the squares of numbers from 1 to 10\n",
    "\n",
    "# using lambda , map function \n",
    "\n",
    "a=range(1,11)\n",
    "b=map(lambda x :pow(x,2),a)\n",
    "list(b)"
   ]
  },
  {
   "cell_type": "code",
   "execution_count": 10,
   "id": "e9a88b3b",
   "metadata": {},
   "outputs": [
    {
     "data": {
      "text/plain": [
       "[1.0,\n",
       " 1.2599210498948732,\n",
       " 1.4422495703074083,\n",
       " 1.5874010519681994,\n",
       " 1.7099759466766968,\n",
       " 1.8171205928321397,\n",
       " 1.912931182772389,\n",
       " 2.0,\n",
       " 2.080083823051904,\n",
       " 2.154434690031884]"
      ]
     },
     "execution_count": 10,
     "metadata": {},
     "output_type": "execute_result"
    }
   ],
   "source": [
    "#Find the cube root of numbers from 1 to 10\n",
    "\n",
    "#List comprehension\n",
    "\n",
    "[ pow(x,(1/3)) for x in range(1,11)]"
   ]
  },
  {
   "cell_type": "code",
   "execution_count": 11,
   "id": "1aa1070b",
   "metadata": {},
   "outputs": [
    {
     "name": "stdout",
     "output_type": "stream",
     "text": [
      "[1.0, 1.2599210498948732, 1.4422495703074083, 1.5874010519681994, 1.7099759466766968, 1.8171205928321397, 1.912931182772389, 2.0, 2.080083823051904, 2.154434690031884] "
     ]
    }
   ],
   "source": [
    "#Find the cube root of numbers from 1 to 10\n",
    "\n",
    "# using lambda , map function \n",
    "\n",
    "a=range(1,11)\n",
    "b=map(lambda x :x**(1/3),a)\n",
    "print(list(b),end=\" \")"
   ]
  },
  {
   "cell_type": "code",
   "execution_count": 12,
   "id": "a6625b70",
   "metadata": {},
   "outputs": [
    {
     "data": {
      "text/plain": [
       "[1.0,\n",
       " 1.259921049894873,\n",
       " 1.4422495703074083,\n",
       " 1.5874010519681994,\n",
       " 1.709975946676697,\n",
       " 1.8171205928321394,\n",
       " 1.9129311827723892,\n",
       " 2.0,\n",
       " 2.080083823051904,\n",
       " 2.154434690031884]"
      ]
     },
     "execution_count": 12,
     "metadata": {},
     "output_type": "execute_result"
    }
   ],
   "source": [
    "import numpy as np \n",
    "\n",
    "# using bdrt funtion from numpy\n",
    "\n",
    "[ np.cbrt(x) for x in range(1,11)]"
   ]
  },
  {
   "cell_type": "code",
   "execution_count": 13,
   "id": "54a597d6",
   "metadata": {},
   "outputs": [
    {
     "name": "stdout",
     "output_type": "stream",
     "text": [
      "enter any number23\n",
      "odd\n"
     ]
    }
   ],
   "source": [
    "# Check if a given number is even\n",
    "\n",
    "x=int(input(\"enter any number\"))\n",
    "y=lambda z : print(\"even\") if z%2==0 else print(\"odd\")\n",
    "y(x)"
   ]
  },
  {
   "cell_type": "code",
   "execution_count": 14,
   "id": "53834eb6",
   "metadata": {},
   "outputs": [
    {
     "data": {
      "text/plain": [
       "[1, 3, 5, 7, 9]"
      ]
     },
     "execution_count": 14,
     "metadata": {},
     "output_type": "execute_result"
    }
   ],
   "source": [
    "# Filter odd numbers from the given list. [1,2,3,4,5,6,7,8,9,10]\n",
    "\n",
    "l=[1,2,3,4,5,6,7,8,9,10]\n",
    "list(filter(lambda x : x%2!=0 , l))"
   ]
  },
  {
   "cell_type": "code",
   "execution_count": 15,
   "id": "68601342",
   "metadata": {},
   "outputs": [
    {
     "name": "stdout",
     "output_type": "stream",
     "text": [
      "[1, 2, 3, 4, 5, 6] \n",
      " [-1, -2, -3, -4, -5]\n"
     ]
    }
   ],
   "source": [
    "#Sort a list of integers into positive and negative integers lists. [1,2,3,4,5,6,-1,-2,-3,-4,-5,0]\n",
    "\n",
    "# method 1 \n",
    "\n",
    "l=[1,2,3,4,5,6,-1,-2,-3,-4,-5,0]\n",
    "\n",
    "p=list(filter(lambda x : x>0 , l ))\n",
    "n=list(filter(lambda x : x<0 , l))\n",
    "print(p,\"\\n\",n)"
   ]
  },
  {
   "cell_type": "code",
   "execution_count": 16,
   "id": "6eff9fb2",
   "metadata": {},
   "outputs": [
    {
     "name": "stdout",
     "output_type": "stream",
     "text": [
      "[1, 2, 3, 4, 5, 6]\n",
      "[-1, -2, -3, -4, -5]\n"
     ]
    }
   ],
   "source": [
    "# method 2\n",
    "\n",
    "l=[1,2,3,4,5,6,-1,-2,-3,-4,-5,0]\n",
    "print([a for a in l if a >0])\n",
    "print([b for b in l if b<0])"
   ]
  },
  {
   "cell_type": "code",
   "execution_count": null,
   "id": "ec91cc02",
   "metadata": {},
   "outputs": [],
   "source": []
  }
 ],
 "metadata": {
  "kernelspec": {
   "display_name": "py310",
   "language": "python",
   "name": "py310"
  },
  "language_info": {
   "codemirror_mode": {
    "name": "ipython",
    "version": 3
   },
   "file_extension": ".py",
   "mimetype": "text/x-python",
   "name": "python",
   "nbconvert_exporter": "python",
   "pygments_lexer": "ipython3",
   "version": "3.10.8"
  }
 },
 "nbformat": 4,
 "nbformat_minor": 5
}

{
 "cells": [
  {
   "cell_type": "code",
   "execution_count": 1,
   "id": "682161a1-b613-4048-aaaa-3fd0125ece1b",
   "metadata": {},
   "outputs": [
    {
     "data": {
      "text/plain": [
       "'\\nAn exception in Python is an error that occurs during the execution of a \\nprogram. It may be due to various reasons such as invalid input, division by \\nzero, out of memory, or trying to access an undefined variable. When an \\nexception occurs, the normal flow of the program is disrupted, and the program \\nterminates.\\n\\nThe key difference between exceptions and syntax errors is that exceptions \\noccur during the execution of a program, while syntax errors occur before the \\nprogram is executed. Additionally, exceptions can be handled and resolved \\nprogrammatically, while syntax errors must be fixed manually by the programmer.\\n\\n'"
      ]
     },
     "execution_count": 1,
     "metadata": {},
     "output_type": "execute_result"
    }
   ],
   "source": [
    "\"\"\"\n",
    "Q1. Explain why we have to use the Exception class while creating a Custom \n",
    "Exception.\n",
    "\"\"\"\n",
    "\n",
    "#Answer\n",
    "\n",
    "\"\"\"\n",
    "The Exception class is the base class for all built-in exceptions in Python. \n",
    "When you create a custom exception, you should inherit from the Exception \n",
    "class so that your custom exception is a subclass of the Exception class.\n",
    "\n",
    "By inheriting from the Exception class, your custom exception will be able to \n",
    "take advantage of the behavior and functionality that is already built into \n",
    "the Exception class. This includes the ability to be raised and caught with a \n",
    "try/except block, and the ability to store and retrieve error messages \n",
    "associated with the exception.\n",
    "\n",
    "Inheriting from the Exception class also makes it easier to catch specific \n",
    "types of exceptions in your code. For example, you could catch all exceptions \n",
    "that are subclasses of Exception using a single except block, or you could \n",
    "catch only specific types of exceptions by catching their corresponding custom\n",
    "exceptions.\n",
    "\n",
    "\"\"\""
   ]
  },
  {
   "cell_type": "code",
   "execution_count": 2,
   "id": "c29c510b-1c8c-4650-9049-cca9511bef55",
   "metadata": {},
   "outputs": [
    {
     "name": "stdout",
     "output_type": "stream",
     "text": [
      "2.0\n"
     ]
    },
    {
     "ename": "ZeroDivisionError",
     "evalue": "division by zero",
     "output_type": "error",
     "traceback": [
      "\u001b[0;31m---------------------------------------------------------------------------\u001b[0m",
      "\u001b[0;31mZeroDivisionError\u001b[0m                         Traceback (most recent call last)",
      "Cell \u001b[0;32mIn[2], line 20\u001b[0m\n\u001b[1;32m     17\u001b[0m     \u001b[38;5;28;01mreturn\u001b[39;00m result\n\u001b[1;32m     19\u001b[0m \u001b[38;5;28mprint\u001b[39m(divide(\u001b[38;5;241m10\u001b[39m, \u001b[38;5;241m5\u001b[39m))\n\u001b[0;32m---> 20\u001b[0m \u001b[38;5;28mprint\u001b[39m(\u001b[43mdivide\u001b[49m\u001b[43m(\u001b[49m\u001b[38;5;241;43m10\u001b[39;49m\u001b[43m,\u001b[49m\u001b[43m \u001b[49m\u001b[38;5;241;43m0\u001b[39;49m\u001b[43m)\u001b[49m)\n",
      "Cell \u001b[0;32mIn[2], line 16\u001b[0m, in \u001b[0;36mdivide\u001b[0;34m(x, y)\u001b[0m\n\u001b[1;32m     15\u001b[0m \u001b[38;5;28;01mdef\u001b[39;00m \u001b[38;5;21mdivide\u001b[39m(x, y):\n\u001b[0;32m---> 16\u001b[0m     result \u001b[38;5;241m=\u001b[39m \u001b[43mx\u001b[49m\u001b[43m \u001b[49m\u001b[38;5;241;43m/\u001b[39;49m\u001b[43m \u001b[49m\u001b[43my\u001b[49m\n\u001b[1;32m     17\u001b[0m     \u001b[38;5;28;01mreturn\u001b[39;00m result\n",
      "\u001b[0;31mZeroDivisionError\u001b[0m: division by zero"
     ]
    }
   ],
   "source": [
    "\"\"\"\n",
    "Q2. Write a python program to print Python Exception Hierarchy.\n",
    "\"\"\"\n",
    "\n",
    "#Answer 2\n",
    "\n",
    "def print_exception_hierarchy(exception, indentation=0):\n",
    "    print(\" \" * indentation + exception.__name__)\n",
    "    for subclass in exception.__subclasses__():\n",
    "        print_exception_hierarchy(subclass, indentation + 4)\n",
    "\n",
    "print_exception_hierarchy(Exception)"
   ]
  },
  {
   "cell_type": "code",
   "execution_count": 3,
   "id": "64eeff10-3d91-4a65-a7a7-ae739cf97c46",
   "metadata": {},
   "outputs": [
    {
     "name": "stdout",
     "output_type": "stream",
     "text": [
      "2.0\n",
      "Cannot divide by zero\n",
      "None\n"
     ]
    }
   ],
   "source": [
    "\"\"\"\n",
    "Q3. What errors are defined in the ArithmeticError class? Explain any two \n",
    "with an example.\n",
    "\"\"\"\n",
    "\n",
    "#Answer 3\n",
    "\n",
    "\"\"\"\n",
    "In Python, exceptions can be caught and handled using the try and except \n",
    "statements. The try block contains the code that might raise an exception, \n",
    "and the except block contains the code that will handle the exception if it \n",
    "occurs.\n",
    "\n",
    "Here is an example of how to use the try and except statements to handle a \n",
    "ZeroDivisionError exception:\n",
    "\"\"\"\n",
    "\n",
    "def divide(x, y):\n",
    "    try:\n",
    "        result = x / y\n",
    "    except ZeroDivisionError:\n",
    "        print(\"Cannot divide by zero\")\n",
    "    else:\n",
    "        return result\n",
    "\n",
    "print(divide(10, 5)) # Output: 2.0\n",
    "print(divide(10, 0)) # Output: Cannot divide by zero"
   ]
  },
  {
   "cell_type": "code",
   "execution_count": 4,
   "id": "9eab568a-5af6-4d04-896e-eba4a47ef8e4",
   "metadata": {},
   "outputs": [
    {
     "name": "stdout",
     "output_type": "stream",
     "text": [
      "2.0\n",
      "5.0\n"
     ]
    }
   ],
   "source": [
    "\"\"\"\n",
    "Q4. Why LookupError class is used? Explain with an example KeyError and \n",
    "IndexError.\n",
    "\n",
    "\"\"\"\n",
    "\n",
    "#Answer 4\n",
    "\n",
    "\n",
    "\"\"\"\n",
    "The LookupError class is a subclass of the Exception class in Python, and it\n",
    "represents a class of errors related to looking up elements in data structures.\n",
    "Some common errors that are defined as subclasses of LookupError include:\n",
    "\n",
    "KeyError: This error is raised when an attempt is made to access a dictionary\n",
    "element using a key that is not present in the dictionary. \n",
    "\n",
    "\"\"\"\n",
    "\n",
    "#For example\n",
    "\n",
    "d = {'a': 1, 'b': 2}\n",
    "print(d['c'])\n"
   ]
  },
  {
   "cell_type": "code",
   "execution_count": null,
   "id": "c1b60993-4093-4a19-bafd-70966618c456",
   "metadata": {},
   "outputs": [],
   "source": [
    "#Answer 4\n",
    "\"\"\"\n",
    "IndexError: This error is raised when an attempt is made to access a list \n",
    "element using an index that is outside the range of valid indices for the list.\n",
    "\"\"\"\n",
    "\n",
    "#For example\n",
    "\n",
    "l = [1, 2, 3]\n",
    "print(l[3]) # Raises IndexError"
   ]
  },
  {
   "cell_type": "code",
   "execution_count": 7,
   "id": "5efa2b9d-47e6-4d18-bde5-8d8dccff94f5",
   "metadata": {},
   "outputs": [
    {
     "name": "stdout",
     "output_type": "stream",
     "text": [
      "2.0\n",
      "Input values must be positive\n",
      "None\n",
      "Cannot divide by zero\n",
      "None\n"
     ]
    }
   ],
   "source": [
    "\"\"\"\n",
    "Q5. Explain ImportError. What is ModuleNotFoundError?\n",
    "\"\"\"\n",
    "\n",
    "#Answer 5\n",
    "\n",
    "\"\"\"\n",
    "ImportError is a built-in exception in Python that is raised when an attempt \n",
    "to import a module fails. This can happen for a variety of reasons, such as:\n",
    "\n",
    ">>>> The module name is incorrect\n",
    ">>>> The module is not installed on the system\n",
    ">>>> The module is not in the search path\n",
    ">>>> A required dependency is missing\n",
    "\n",
    "ModuleNotFoundError is a subclass of ImportError that was introduced in Python\n",
    "3.6. It is raised when a module is not found in the Python Standard Library or\n",
    "in a specific package or location. The main difference between ImportError and\n",
    "ModuleNotFoundError is that the former can be raised for other reasons besides\n",
    "a missing module, such as an incorrect module name or a missing required \n",
    "dependency, while the latter is specifically raised when a module cannot be \n",
    "found.\n",
    "\n",
    "\"\"\""
   ]
  },
  {
   "cell_type": "code",
   "execution_count": 8,
   "id": "226643af-509b-41bc-808f-9ece82c69f8f",
   "metadata": {},
   "outputs": [
    {
     "name": "stdout",
     "output_type": "stream",
     "text": [
      "2.0\n",
      "Cannot divide by zero\n"
     ]
    }
   ],
   "source": [
    "\"\"\"\n",
    "Q6. List down some best practices for exception handling in python.\n",
    "\"\"\"\n",
    "\n",
    "#Answer 6\n",
    "\n",
    "\"\"\"\n",
    "Some of the best practices for exception handling in Python are as follows:\n",
    "\n",
    ">>> Catch specific exceptions: Rather than catching the broad Exception class,\n",
    "it is recommended to catch specific exceptions that you expect to occur in \n",
    "your code. This allows you to handle different types of exceptions differently,\n",
    "and to provide more meaningful error messages.\n",
    "\n",
    ">>> Provide informative error messages: When raising or catching exceptions, \n",
    "it is helpful to include information about the error that has occurred. This \n",
    "can make it easier to diagnose and fix the problem.\n",
    "\n",
    ">>> Use exceptions for exceptional situations: Exceptions should be used to \n",
    "handle unexpected or exceptional situations that cannot be handled through \n",
    "normal control flow. Don't use exceptions for normal control flow, such as to \n",
    "check if a file exists before opening it.\n",
    "\n",
    ">>> Avoid using exceptions for control flow: Exceptions should not be used \n",
    "as a mechanism for control flow. Instead, use a simple if statement or another\n",
    "control flow construct to check for expected conditions.\n",
    "\n",
    ">>> Don't ignore exceptions: When you catch an exception, it is important to \n",
    "handle it properly, rather than just ignoring it. Ignoring exceptions can lead\n",
    "to unexpected behavior and can make it more difficult to diagnose and fix \n",
    "problems.\n",
    "\n",
    ">>> Use finally to clean up resources: The finally clause can be used to ensure\n",
    "that resources are properly cleaned up, even if an exception occurs. This can \n",
    "include closing files, releasing resources, and restoring the state of the \n",
    "program.\n",
    "\n",
    ">>> Consider using context managers: Context managers are a convenient way to \n",
    "manage resources in a Python program. They allow you to wrap a block of code \n",
    "that requires a resource, and automatically clean up the resource when the \n",
    "block of code has completed.\n",
    "\n",
    "\"\"\""
   ]
  },
  {
   "cell_type": "code",
   "execution_count": null,
   "id": "174e525e-6d4c-4589-9bf8-092df4361162",
   "metadata": {},
   "outputs": [],
   "source": []
  }
 ],
 "metadata": {
  "kernelspec": {
   "display_name": "Python 3 (ipykernel)",
   "language": "python",
   "name": "python3"
  },
  "language_info": {
   "codemirror_mode": {
    "name": "ipython",
    "version": 3
   },
   "file_extension": ".py",
   "mimetype": "text/x-python",
   "name": "python",
   "nbconvert_exporter": "python",
   "pygments_lexer": "ipython3",
   "version": "3.10.8"
  }
 },
 "nbformat": 4,
 "nbformat_minor": 5
}
